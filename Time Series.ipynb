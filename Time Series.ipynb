{
 "cells": [
  {
   "cell_type": "markdown",
   "metadata": {},
   "source": [
    "# Project description\n",
    "\n",
    "Sweet Lift Taxi company has collected historical data on taxi orders at airports. To attract more drivers during peak hours, we need to predict the amount of taxi orders for the next hour. Build a model for such a prediction.\n",
    "\n",
    "The RMSE metric on the test set should not be more than 48.\n",
    "\n",
    "## Project instructions\n",
    "\n",
    "1. Download the data and resample it by one hour.\n",
    "2. Analyze the data.\n",
    "3. Train different models with different hyperparameters. The test sample should be 10% of the initial dataset. \n",
    "4. Test the data using the test sample and provide a conclusion.\n",
    "\n",
    "## Data description\n",
    "\n",
    "The data is stored in file `taxi.csv`. The number of orders is in the '*num_orders*' column."
   ]
  },
  {
   "cell_type": "markdown",
   "metadata": {},
   "source": [
    "## Preparation"
   ]
  },
  {
   "cell_type": "code",
   "execution_count": 6,
   "metadata": {},
   "outputs": [],
   "source": [
    "import pandas as pd\n",
    "import numpy as np\n",
    "import matplotlib.pyplot as plt\n",
    "from pandas.plotting import lag_plot\n",
    "from pylab import rcParams\n",
    "import seaborn as sns\n",
    "\n",
    "\n",
    "from statsmodels.tsa.seasonal import seasonal_decompose\n",
    "from statsmodels.graphics.tsaplots import plot_acf,plot_pacf\n",
    "\n",
    "\n",
    "\n",
    "from sklearn.model_selection import train_test_split\n",
    "from sklearn.linear_model import LinearRegression\n",
    "from sklearn.preprocessing import StandardScaler\n",
    "from sklearn.metrics import(mean_squared_error,mean_absolute_error,r2_score)\n",
    "from sklearn.linear_model import LinearRegression\n",
    "from sklearn.ensemble import RandomForestRegressor\n",
    "from sklearn.pipeline import Pipeline\n",
    "from sklearn.model_selection import cross_val_score\n",
    "from sklearn.model_selection import TimeSeriesSplit, GridSearchCV, learning_curve\n",
    "\n",
    "\n",
    "\n",
    "from xgboost import XGBRegressor\n",
    "import shap\n",
    "\n",
    "import warnings\n",
    "warnings.filterwarnings(\"ignore\")\n",
    "rcParams['figure.figsize'] = 10,8\n",
    "plt.style.use('Solarize_Light2')"
   ]
  },
  {
   "cell_type": "code",
   "execution_count": 7,
   "metadata": {},
   "outputs": [],
   "source": [
    "df = pd.read_csv('/datasets/taxi.csv', index_col=[0], parse_dates=[0])"
   ]
  },
  {
   "cell_type": "code",
   "execution_count": 8,
   "metadata": {},
   "outputs": [
    {
     "data": {
      "text/html": [
       "<div>\n",
       "<style scoped>\n",
       "    .dataframe tbody tr th:only-of-type {\n",
       "        vertical-align: middle;\n",
       "    }\n",
       "\n",
       "    .dataframe tbody tr th {\n",
       "        vertical-align: top;\n",
       "    }\n",
       "\n",
       "    .dataframe thead th {\n",
       "        text-align: right;\n",
       "    }\n",
       "</style>\n",
       "<table border=\"1\" class=\"dataframe\">\n",
       "  <thead>\n",
       "    <tr style=\"text-align: right;\">\n",
       "      <th></th>\n",
       "      <th>num_orders</th>\n",
       "    </tr>\n",
       "    <tr>\n",
       "      <th>datetime</th>\n",
       "      <th></th>\n",
       "    </tr>\n",
       "  </thead>\n",
       "  <tbody>\n",
       "    <tr>\n",
       "      <th>2018-03-01 00:00:00</th>\n",
       "      <td>9</td>\n",
       "    </tr>\n",
       "    <tr>\n",
       "      <th>2018-03-01 00:10:00</th>\n",
       "      <td>14</td>\n",
       "    </tr>\n",
       "    <tr>\n",
       "      <th>2018-03-01 00:20:00</th>\n",
       "      <td>28</td>\n",
       "    </tr>\n",
       "    <tr>\n",
       "      <th>2018-03-01 00:30:00</th>\n",
       "      <td>20</td>\n",
       "    </tr>\n",
       "    <tr>\n",
       "      <th>2018-03-01 00:40:00</th>\n",
       "      <td>32</td>\n",
       "    </tr>\n",
       "  </tbody>\n",
       "</table>\n",
       "</div>"
      ],
      "text/plain": [
       "                     num_orders\n",
       "datetime                       \n",
       "2018-03-01 00:00:00           9\n",
       "2018-03-01 00:10:00          14\n",
       "2018-03-01 00:20:00          28\n",
       "2018-03-01 00:30:00          20\n",
       "2018-03-01 00:40:00          32"
      ]
     },
     "execution_count": 8,
     "metadata": {},
     "output_type": "execute_result"
    }
   ],
   "source": [
    "df.head()"
   ]
  },
  {
   "cell_type": "code",
   "execution_count": 9,
   "metadata": {},
   "outputs": [
    {
     "data": {
      "text/html": [
       "<div>\n",
       "<style scoped>\n",
       "    .dataframe tbody tr th:only-of-type {\n",
       "        vertical-align: middle;\n",
       "    }\n",
       "\n",
       "    .dataframe tbody tr th {\n",
       "        vertical-align: top;\n",
       "    }\n",
       "\n",
       "    .dataframe thead th {\n",
       "        text-align: right;\n",
       "    }\n",
       "</style>\n",
       "<table border=\"1\" class=\"dataframe\">\n",
       "  <thead>\n",
       "    <tr style=\"text-align: right;\">\n",
       "      <th></th>\n",
       "      <th>num_orders</th>\n",
       "    </tr>\n",
       "  </thead>\n",
       "  <tbody>\n",
       "    <tr>\n",
       "      <th>count</th>\n",
       "      <td>26496.000000</td>\n",
       "    </tr>\n",
       "    <tr>\n",
       "      <th>mean</th>\n",
       "      <td>14.070463</td>\n",
       "    </tr>\n",
       "    <tr>\n",
       "      <th>std</th>\n",
       "      <td>9.211330</td>\n",
       "    </tr>\n",
       "    <tr>\n",
       "      <th>min</th>\n",
       "      <td>0.000000</td>\n",
       "    </tr>\n",
       "    <tr>\n",
       "      <th>25%</th>\n",
       "      <td>8.000000</td>\n",
       "    </tr>\n",
       "    <tr>\n",
       "      <th>50%</th>\n",
       "      <td>13.000000</td>\n",
       "    </tr>\n",
       "    <tr>\n",
       "      <th>75%</th>\n",
       "      <td>19.000000</td>\n",
       "    </tr>\n",
       "    <tr>\n",
       "      <th>max</th>\n",
       "      <td>119.000000</td>\n",
       "    </tr>\n",
       "  </tbody>\n",
       "</table>\n",
       "</div>"
      ],
      "text/plain": [
       "         num_orders\n",
       "count  26496.000000\n",
       "mean      14.070463\n",
       "std        9.211330\n",
       "min        0.000000\n",
       "25%        8.000000\n",
       "50%       13.000000\n",
       "75%       19.000000\n",
       "max      119.000000"
      ]
     },
     "execution_count": 9,
     "metadata": {},
     "output_type": "execute_result"
    }
   ],
   "source": [
    "df.describe()"
   ]
  },
  {
   "cell_type": "code",
   "execution_count": 10,
   "metadata": {},
   "outputs": [
    {
     "name": "stdout",
     "output_type": "stream",
     "text": [
      "<class 'pandas.core.frame.DataFrame'>\n",
      "DatetimeIndex: 26496 entries, 2018-03-01 00:00:00 to 2018-08-31 23:50:00\n",
      "Data columns (total 1 columns):\n",
      " #   Column      Non-Null Count  Dtype\n",
      "---  ------      --------------  -----\n",
      " 0   num_orders  26496 non-null  int64\n",
      "dtypes: int64(1)\n",
      "memory usage: 414.0 KB\n"
     ]
    }
   ],
   "source": [
    "df.info()"
   ]
  },
  {
   "cell_type": "code",
   "execution_count": 11,
   "metadata": {},
   "outputs": [
    {
     "name": "stdout",
     "output_type": "stream",
     "text": [
      "True\n"
     ]
    }
   ],
   "source": [
    "print(df.index.is_monotonic)"
   ]
  },
  {
   "cell_type": "markdown",
   "metadata": {},
   "source": [
    "is_monotonic is to check if the dates and times are in chronological order, look at the is_monotonic attribute of the table index. If the order is chronological, the attribute will return True; if not, False"
   ]
  },
  {
   "cell_type": "code",
   "execution_count": 12,
   "metadata": {},
   "outputs": [
    {
     "name": "stdout",
     "output_type": "stream",
     "text": [
      "Our data is from 2018-03-01 00:00:00 to 2018-08-31 23:50:00\n"
     ]
    }
   ],
   "source": [
    "print(f'Our data is from {df.index.min()} to {df.index.max()}')"
   ]
  },
  {
   "cell_type": "code",
   "execution_count": 13,
   "metadata": {},
   "outputs": [
    {
     "data": {
      "image/png": "[encoded data removed]",
      "text/plain": [
       "<Figure size 720x504 with 1 Axes>"
      ]
     },
     "metadata": {},
     "output_type": "display_data"
    }
   ],
   "source": [
    "df.plot(kind ='hist',color = 'green',bins = 20, title = \"Distribution of our Taxi Pickups\", figsize = (10,7))\n",
    "plt.show()"
   ]
  },
  {
   "cell_type": "code",
   "execution_count": 14,
   "metadata": {},
   "outputs": [
    {
     "data": {
      "image/png": "[encoded data removed]",
      "text/plain": [
       "<Figure size 720x504 with 1 Axes>"
      ]
     },
     "metadata": {},
     "output_type": "display_data"
    }
   ],
   "source": [
    "df.plot(kind ='kde',color = 'green', title = \"Distribution of our Taxi Pickups\", figsize = (10,7), grid = True)\n",
    "plt.show()"
   ]
  },
  {
   "cell_type": "markdown",
   "metadata": {},
   "source": [
    "We Can see most of values are centered around 0 - 60 taxi pickups "
   ]
  },
  {
   "cell_type": "code",
   "execution_count": 15,
   "metadata": {},
   "outputs": [],
   "source": [
    "df = df.resample(\"1H\").sum()\n"
   ]
  },
  {
   "cell_type": "markdown",
   "metadata": {},
   "source": [
    "I resample the data by the mean of every hour. We can see that daily pickups are increasing over the period"
   ]
  },
  {
   "cell_type": "code",
   "execution_count": 16,
   "metadata": {
    "scrolled": true
   },
   "outputs": [
    {
     "data": {
      "image/png": "[encoded data removed]",
      "text/plain": [
       "<Figure size 720x576 with 3 Axes>"
      ]
     },
     "metadata": {},
     "output_type": "display_data"
    }
   ],
   "source": [
    "plt.figure(figsize=(10, 8))\n",
    "plt.subplot(311)\n",
    "decomposed = seasonal_decompose(df)\n",
    "decomposed.trend.plot(ax=plt.gca())\n",
    "plt.title('Trend')\n",
    "plt.subplot(312)\n",
    "decomposed.seasonal.plot(ax=plt.gca()) \n",
    "plt.title('Seasonality')\n",
    "plt.subplot(313)\n",
    "decomposed.resid.plot(ax=plt.gca())\n",
    "plt.title('Residuals')\n",
    "plt.tight_layout()"
   ]
  },
  {
   "cell_type": "markdown",
   "metadata": {},
   "source": [
    "The trend component is supposed to capture the slowly-moving overall level of the series.\n",
    "The seasonal component captures patterns that repeat every season.\n",
    "The residual is what is left. It may or may not be autocorrelated.  We can see the trend is up and in residuals we get some large spikes towards the end. \n"
   ]
  },
  {
   "cell_type": "code",
   "execution_count": 17,
   "metadata": {},
   "outputs": [
    {
     "data": {
      "text/html": [
       "<div>\n",
       "<style scoped>\n",
       "    .dataframe tbody tr th:only-of-type {\n",
       "        vertical-align: middle;\n",
       "    }\n",
       "\n",
       "    .dataframe tbody tr th {\n",
       "        vertical-align: top;\n",
       "    }\n",
       "\n",
       "    .dataframe thead th {\n",
       "        text-align: right;\n",
       "    }\n",
       "</style>\n",
       "<table border=\"1\" class=\"dataframe\">\n",
       "  <thead>\n",
       "    <tr style=\"text-align: right;\">\n",
       "      <th></th>\n",
       "      <th>num_orders</th>\n",
       "    </tr>\n",
       "  </thead>\n",
       "  <tbody>\n",
       "    <tr>\n",
       "      <th>count</th>\n",
       "      <td>4416.000000</td>\n",
       "    </tr>\n",
       "    <tr>\n",
       "      <th>mean</th>\n",
       "      <td>84.422781</td>\n",
       "    </tr>\n",
       "    <tr>\n",
       "      <th>std</th>\n",
       "      <td>45.023853</td>\n",
       "    </tr>\n",
       "    <tr>\n",
       "      <th>min</th>\n",
       "      <td>0.000000</td>\n",
       "    </tr>\n",
       "    <tr>\n",
       "      <th>25%</th>\n",
       "      <td>54.000000</td>\n",
       "    </tr>\n",
       "    <tr>\n",
       "      <th>50%</th>\n",
       "      <td>78.000000</td>\n",
       "    </tr>\n",
       "    <tr>\n",
       "      <th>75%</th>\n",
       "      <td>107.000000</td>\n",
       "    </tr>\n",
       "    <tr>\n",
       "      <th>max</th>\n",
       "      <td>462.000000</td>\n",
       "    </tr>\n",
       "  </tbody>\n",
       "</table>\n",
       "</div>"
      ],
      "text/plain": [
       "        num_orders\n",
       "count  4416.000000\n",
       "mean     84.422781\n",
       "std      45.023853\n",
       "min       0.000000\n",
       "25%      54.000000\n",
       "50%      78.000000\n",
       "75%     107.000000\n",
       "max     462.000000"
      ]
     },
     "execution_count": 17,
     "metadata": {},
     "output_type": "execute_result"
    }
   ],
   "source": [
    "df.describe()"
   ]
  },
  {
   "cell_type": "markdown",
   "metadata": {},
   "source": [
    " Lag plots are used to check if a time series is random."
   ]
  },
  {
   "cell_type": "code",
   "execution_count": 18,
   "metadata": {},
   "outputs": [
    {
     "data": {
      "text/plain": [
       "<matplotlib.lines._AxLine at 0x7f7981c0f430>"
      ]
     },
     "execution_count": 18,
     "metadata": {},
     "output_type": "execute_result"
    },
    {
     "data": {
      "image/png": "[encoded data removed]",
      "text/plain": [
       "<Figure size 720x576 with 1 Axes>"
      ]
     },
     "metadata": {},
     "output_type": "display_data"
    }
   ],
   "source": [
    "lag_plot(df,lag=1)\n",
    "plt.title(\"Lag plot with lag=1\")\n",
    "plt.axline((1, 1), slope=1, color = 'Red')"
   ]
  },
  {
   "cell_type": "markdown",
   "metadata": {},
   "source": [
    "the data exhibits high auto correlation behaviour as the points in the lag plot lie around the diagonal line."
   ]
  },
  {
   "cell_type": "markdown",
   "metadata": {},
   "source": [
    "Autocorrelation is the correlation between a time series’ current value with past values.\n",
    "Positive autocorrelation means that a high value now is likely to yield a high value in the future and vice versa"
   ]
  },
  {
   "cell_type": "code",
   "execution_count": 19,
   "metadata": {},
   "outputs": [
    {
     "data": {
      "image/png": "[encoded data removed]",
      "text/plain": [
       "<Figure size 720x576 with 1 Axes>"
      ]
     },
     "execution_count": 19,
     "metadata": {},
     "output_type": "execute_result"
    },
    {
     "data": {
      "image/png": "[encoded data removed]",
      "text/plain": [
       "<Figure size 720x576 with 1 Axes>"
      ]
     },
     "metadata": {},
     "output_type": "display_data"
    }
   ],
   "source": [
    "plot_acf(df)"
   ]
  },
  {
   "cell_type": "markdown",
   "metadata": {},
   "source": [
    "As the lags increase we can see still there is a strong correlation"
   ]
  },
  {
   "cell_type": "code",
   "execution_count": 16,
   "metadata": {},
   "outputs": [
    {
     "data": {
      "image/png": "[encoded data removed]",
      "text/plain": [
       "<Figure size 720x576 with 1 Axes>"
      ]
     },
     "execution_count": 16,
     "metadata": {},
     "output_type": "execute_result"
    },
    {
     "data": {
      "image/png": "[encoded data removed]",
      "text/plain": [
       "<Figure size 720x576 with 1 Axes>"
      ]
     },
     "metadata": {},
     "output_type": "display_data"
    }
   ],
   "source": [
    "plot_pacf(df)"
   ]
  },
  {
   "cell_type": "markdown",
   "metadata": {},
   "source": [
    "The PACF is an alternative to the ACF. Rather than giving the autocorrelations, it gives you the partial autocorrelation. This autocorrelation is called partial, because with each step back in the past, only additional autocorrelation is listed. This is different from the ACF, as the ACF contains duplicate correlations when variability can be explained by multiple points in time, There is a strong positive autocorrelation with lag 1-2: a high value now means that you are very likely to observe a high value in the next step. Since the autocorrelation shown here is partial, you do not see any duplicate effects with earlier lags, making the PACF plot neater and clearer."
   ]
  },
  {
   "cell_type": "markdown",
   "metadata": {},
   "source": [
    "# Importing Features"
   ]
  },
  {
   "cell_type": "code",
   "execution_count": 20,
   "metadata": {},
   "outputs": [],
   "source": [
    "def make_features(data, max_lag, rolling_mean_size):\n",
    "    data['year'] = data.index.year\n",
    "    data['month'] = data.index.month\n",
    "    data['dayofweek'] = data.index.dayofweek\n",
    "    data['hour'] = data.index.hour\n",
    "    \n",
    "    \n",
    "    for lag in range(1, max_lag + 1):\n",
    "        data['lag_{}'.format(lag)] = data['num_orders'].shift(lag)\n",
    "\n",
    "    data['rolling_mean'] = data['num_orders'].shift().rolling(4).mean()\n",
    "make_features(df,5,5)\n",
    "\n",
    "df.dropna(inplace = True)"
   ]
  },
  {
   "cell_type": "markdown",
   "metadata": {},
   "source": [
    "We make new features from our data column using year,month,day and day of week,hour. I also used the lag method which is The previous values in the time series it  will tell you whether the function x(t) will grow or decrease. I droped all the na values as well"
   ]
  },
  {
   "cell_type": "code",
   "execution_count": 21,
   "metadata": {},
   "outputs": [
    {
     "data": {
      "text/html": [
       "<div>\n",
       "<style scoped>\n",
       "    .dataframe tbody tr th:only-of-type {\n",
       "        vertical-align: middle;\n",
       "    }\n",
       "\n",
       "    .dataframe tbody tr th {\n",
       "        vertical-align: top;\n",
       "    }\n",
       "\n",
       "    .dataframe thead th {\n",
       "        text-align: right;\n",
       "    }\n",
       "</style>\n",
       "<table border=\"1\" class=\"dataframe\">\n",
       "  <thead>\n",
       "    <tr style=\"text-align: right;\">\n",
       "      <th></th>\n",
       "      <th>num_orders</th>\n",
       "      <th>year</th>\n",
       "      <th>month</th>\n",
       "      <th>dayofweek</th>\n",
       "      <th>hour</th>\n",
       "      <th>lag_1</th>\n",
       "      <th>lag_2</th>\n",
       "      <th>lag_3</th>\n",
       "      <th>lag_4</th>\n",
       "      <th>lag_5</th>\n",
       "      <th>rolling_mean</th>\n",
       "    </tr>\n",
       "    <tr>\n",
       "      <th>datetime</th>\n",
       "      <th></th>\n",
       "      <th></th>\n",
       "      <th></th>\n",
       "      <th></th>\n",
       "      <th></th>\n",
       "      <th></th>\n",
       "      <th></th>\n",
       "      <th></th>\n",
       "      <th></th>\n",
       "      <th></th>\n",
       "      <th></th>\n",
       "    </tr>\n",
       "  </thead>\n",
       "  <tbody>\n",
       "    <tr>\n",
       "      <th>2018-03-01 05:00:00</th>\n",
       "      <td>6</td>\n",
       "      <td>2018</td>\n",
       "      <td>3</td>\n",
       "      <td>3</td>\n",
       "      <td>5</td>\n",
       "      <td>43.0</td>\n",
       "      <td>66.0</td>\n",
       "      <td>71.0</td>\n",
       "      <td>85.0</td>\n",
       "      <td>124.0</td>\n",
       "      <td>66.25</td>\n",
       "    </tr>\n",
       "    <tr>\n",
       "      <th>2018-03-01 06:00:00</th>\n",
       "      <td>12</td>\n",
       "      <td>2018</td>\n",
       "      <td>3</td>\n",
       "      <td>3</td>\n",
       "      <td>6</td>\n",
       "      <td>6.0</td>\n",
       "      <td>43.0</td>\n",
       "      <td>66.0</td>\n",
       "      <td>71.0</td>\n",
       "      <td>85.0</td>\n",
       "      <td>46.50</td>\n",
       "    </tr>\n",
       "    <tr>\n",
       "      <th>2018-03-01 07:00:00</th>\n",
       "      <td>15</td>\n",
       "      <td>2018</td>\n",
       "      <td>3</td>\n",
       "      <td>3</td>\n",
       "      <td>7</td>\n",
       "      <td>12.0</td>\n",
       "      <td>6.0</td>\n",
       "      <td>43.0</td>\n",
       "      <td>66.0</td>\n",
       "      <td>71.0</td>\n",
       "      <td>31.75</td>\n",
       "    </tr>\n",
       "    <tr>\n",
       "      <th>2018-03-01 08:00:00</th>\n",
       "      <td>34</td>\n",
       "      <td>2018</td>\n",
       "      <td>3</td>\n",
       "      <td>3</td>\n",
       "      <td>8</td>\n",
       "      <td>15.0</td>\n",
       "      <td>12.0</td>\n",
       "      <td>6.0</td>\n",
       "      <td>43.0</td>\n",
       "      <td>66.0</td>\n",
       "      <td>19.00</td>\n",
       "    </tr>\n",
       "    <tr>\n",
       "      <th>2018-03-01 09:00:00</th>\n",
       "      <td>69</td>\n",
       "      <td>2018</td>\n",
       "      <td>3</td>\n",
       "      <td>3</td>\n",
       "      <td>9</td>\n",
       "      <td>34.0</td>\n",
       "      <td>15.0</td>\n",
       "      <td>12.0</td>\n",
       "      <td>6.0</td>\n",
       "      <td>43.0</td>\n",
       "      <td>16.75</td>\n",
       "    </tr>\n",
       "  </tbody>\n",
       "</table>\n",
       "</div>"
      ],
      "text/plain": [
       "                     num_orders  year  month  dayofweek  hour  lag_1  lag_2  \\\n",
       "datetime                                                                      \n",
       "2018-03-01 05:00:00           6  2018      3          3     5   43.0   66.0   \n",
       "2018-03-01 06:00:00          12  2018      3          3     6    6.0   43.0   \n",
       "2018-03-01 07:00:00          15  2018      3          3     7   12.0    6.0   \n",
       "2018-03-01 08:00:00          34  2018      3          3     8   15.0   12.0   \n",
       "2018-03-01 09:00:00          69  2018      3          3     9   34.0   15.0   \n",
       "\n",
       "                     lag_3  lag_4  lag_5  rolling_mean  \n",
       "datetime                                                \n",
       "2018-03-01 05:00:00   71.0   85.0  124.0         66.25  \n",
       "2018-03-01 06:00:00   66.0   71.0   85.0         46.50  \n",
       "2018-03-01 07:00:00   43.0   66.0   71.0         31.75  \n",
       "2018-03-01 08:00:00    6.0   43.0   66.0         19.00  \n",
       "2018-03-01 09:00:00   12.0    6.0   43.0         16.75  "
      ]
     },
     "execution_count": 21,
     "metadata": {},
     "output_type": "execute_result"
    }
   ],
   "source": [
    "df.head()"
   ]
  },
  {
   "cell_type": "code",
   "execution_count": null,
   "metadata": {},
   "outputs": [],
   "source": []
  },
  {
   "cell_type": "code",
   "execution_count": 22,
   "metadata": {},
   "outputs": [
    {
     "data": {
      "text/plain": [
       "<AxesSubplot:>"
      ]
     },
     "execution_count": 22,
     "metadata": {},
     "output_type": "execute_result"
    },
    {
     "data": {
      "image/png": "[encoded data removed]",
      "text/plain": [
       "<Figure size 720x576 with 2 Axes>"
      ]
     },
     "metadata": {},
     "output_type": "display_data"
    }
   ],
   "source": [
    "sns.heatmap(df.corr(), annot = True)"
   ]
  },
  {
   "cell_type": "code",
   "execution_count": 20,
   "metadata": {},
   "outputs": [
    {
     "data": {
      "text/plain": [
       "<AxesSubplot:>"
      ]
     },
     "execution_count": 20,
     "metadata": {},
     "output_type": "execute_result"
    },
    {
     "data": {
      "image/png": "[encoded data removed]",
      "text/plain": [
       "<Figure size 720x576 with 1 Axes>"
      ]
     },
     "metadata": {},
     "output_type": "display_data"
    }
   ],
   "source": [
    "corr= df.corr()\n",
    "corr['num_orders'].plot(kind = 'barh')"
   ]
  },
  {
   "cell_type": "markdown",
   "metadata": {},
   "source": [
    "We can see some of lag values are highly correlated to our num_orders columns and also month is correlated to our num_orders column. "
   ]
  },
  {
   "cell_type": "markdown",
   "metadata": {},
   "source": [
    "# Model training "
   ]
  },
  {
   "cell_type": "code",
   "execution_count": 23,
   "metadata": {},
   "outputs": [],
   "source": [
    "train, test = train_test_split(df, shuffle=False, test_size=0.1, random_state =123)\n",
    "X_train, y_train = train.iloc[:,1:] , train.iloc[:,0]\n",
    "X_test, y_test = test.iloc[:,1:] , test.iloc[:,0]\n",
    "\n",
    "tscv = TimeSeriesSplit(n_splits=5)"
   ]
  },
  {
   "cell_type": "code",
   "execution_count": 22,
   "metadata": {},
   "outputs": [],
   "source": [
    "\n",
    "rf = Pipeline([('scale2',StandardScaler()),(\"RF\", RandomForestRegressor(random_state = 123))])\n",
    "xb = Pipeline([('scale3',StandardScaler()),(\"XGR\",XGBRegressor(random_state = 123))])"
   ]
  },
  {
   "cell_type": "code",
   "execution_count": 23,
   "metadata": {},
   "outputs": [],
   "source": [
    "rf_model = cross_val_score(rf, X_train,  y_train, cv=tscv, scoring = 'neg_root_mean_squared_error')"
   ]
  },
  {
   "cell_type": "code",
   "execution_count": 24,
   "metadata": {},
   "outputs": [],
   "source": [
    "xb_model = cross_val_score(xb, X_train,  y_train, cv=tscv, scoring = 'neg_root_mean_squared_error')"
   ]
  },
  {
   "cell_type": "markdown",
   "metadata": {},
   "source": [
    "Root Mean Square Error (RMSE) is the standard deviation of the residuals (prediction errors). Residuals are a measure of how far from the regression line data points are; RMSE is a measure of how spread out these residuals are. In other words, it tells you how concentrated the data is around the line of best fit"
   ]
  },
  {
   "cell_type": "code",
   "execution_count": 25,
   "metadata": {},
   "outputs": [
    {
     "data": {
      "text/html": [
       "<div>\n",
       "<style scoped>\n",
       "    .dataframe tbody tr th:only-of-type {\n",
       "        vertical-align: middle;\n",
       "    }\n",
       "\n",
       "    .dataframe tbody tr th {\n",
       "        vertical-align: top;\n",
       "    }\n",
       "\n",
       "    .dataframe thead th {\n",
       "        text-align: right;\n",
       "    }\n",
       "</style>\n",
       "<table border=\"1\" class=\"dataframe\">\n",
       "  <thead>\n",
       "    <tr style=\"text-align: right;\">\n",
       "      <th></th>\n",
       "      <th>Random Forest</th>\n",
       "      <th>XGboost</th>\n",
       "    </tr>\n",
       "  </thead>\n",
       "  <tbody>\n",
       "    <tr>\n",
       "      <th>0</th>\n",
       "      <td>25.302425</td>\n",
       "      <td>26.499465</td>\n",
       "    </tr>\n",
       "  </tbody>\n",
       "</table>\n",
       "</div>"
      ],
      "text/plain": [
       "   Random Forest    XGboost\n",
       "0      25.302425  26.499465"
      ]
     },
     "execution_count": 25,
     "metadata": {},
     "output_type": "execute_result"
    }
   ],
   "source": [
    "dataframe = {\"Random Forest\":rf_model.mean()*-1,'XGboost':xb_model.mean()*-1}\n",
    "scores = pd.DataFrame(dataframe, index = [0])\n",
    "scores"
   ]
  },
  {
   "cell_type": "markdown",
   "metadata": {},
   "source": [
    "We can see that our RMSE are in 25,26 from our actual values which is good. Since our directions were to stay below 48 "
   ]
  },
  {
   "cell_type": "code",
   "execution_count": 26,
   "metadata": {},
   "outputs": [],
   "source": [
    "xb.fit(X_train,y_train)\n",
    "y_pred = xb.predict(X_test)\n",
    "\n",
    "xb_data = pd.DataFrame({'actual': y_test, 'pred':y_pred})"
   ]
  },
  {
   "cell_type": "code",
   "execution_count": 27,
   "metadata": {},
   "outputs": [
    {
     "data": {
      "text/plain": [
       "<matplotlib.legend.Legend at 0x7fee2b0aea00>"
      ]
     },
     "execution_count": 27,
     "metadata": {},
     "output_type": "execute_result"
    },
    {
     "data": {
      "image/png": "[encoded data removed]",
      "text/plain": [
       "<Figure size 720x576 with 1 Axes>"
      ]
     },
     "metadata": {},
     "output_type": "display_data"
    }
   ],
   "source": [
    "plt.plot(y_train.rolling(5).mean(), label = 'Train Actual',)\n",
    "plt.plot(xb_data.actual.rolling(5).mean(), label = 'Test Actual',alpha=0.5)\n",
    "plt.plot(xb_data.pred.rolling(5).mean(), label = 'Test Pred',alpha=0.5)\n",
    "plt.legend()"
   ]
  },
  {
   "cell_type": "markdown",
   "metadata": {},
   "source": [
    "We can see that our model didnt capture the full values towards the end of the year, maybe the data is sufficent to calcualte the increase num of orders. We would need year over year data to make a better prediction"
   ]
  },
  {
   "cell_type": "code",
   "execution_count": 28,
   "metadata": {},
   "outputs": [],
   "source": [
    "# Here we access the XGBRegressor From our pipeline\n",
    "XGBR = xb.steps[1][1]\n"
   ]
  },
  {
   "cell_type": "code",
   "execution_count": 29,
   "metadata": {},
   "outputs": [],
   "source": [
    "explainer = shap.TreeExplainer(XGBR)\n",
    "shap_values = explainer.shap_values(X_test)"
   ]
  },
  {
   "cell_type": "code",
   "execution_count": 30,
   "metadata": {},
   "outputs": [
    {
     "data": {
      "image/png": "[encoded data removed]",
      "text/plain": [
       "<Figure size 576x396 with 1 Axes>"
      ]
     },
     "metadata": {},
     "output_type": "display_data"
    }
   ],
   "source": [
    "shap.summary_plot(shap_values, X_test, plot_type=\"bar\")"
   ]
  },
  {
   "cell_type": "markdown",
   "metadata": {},
   "source": [
    "Here we get our Feauture importance columns  we can see some of the top columns that had impact on our  XGB model"
   ]
  },
  {
   "cell_type": "code",
   "execution_count": 31,
   "metadata": {},
   "outputs": [],
   "source": [
    "rf.fit(X_train,y_train)\n",
    "rf.predict(X_test)\n",
    "rf_data = pd.DataFrame({'actual': y_test, 'pred':y_pred})"
   ]
  },
  {
   "cell_type": "code",
   "execution_count": 32,
   "metadata": {},
   "outputs": [
    {
     "data": {
      "text/plain": [
       "<matplotlib.legend.Legend at 0x7fef24ce3fd0>"
      ]
     },
     "execution_count": 32,
     "metadata": {},
     "output_type": "execute_result"
    },
    {
     "data": {
      "image/png": "[encoded data removed]",
      "text/plain": [
       "<Figure size 720x576 with 1 Axes>"
      ]
     },
     "metadata": {},
     "output_type": "display_data"
    }
   ],
   "source": [
    "plt.plot(y_train.rolling(5).mean(), label = 'Train Actual',)\n",
    "plt.plot(rf_data.actual.rolling(5).mean(), label = 'Test Actual',alpha=0.5)\n",
    "plt.plot(rf_data.pred.rolling(5).mean(), label = 'Test Pred',alpha=0.5)\n",
    "plt.legend()"
   ]
  },
  {
   "cell_type": "code",
   "execution_count": 33,
   "metadata": {},
   "outputs": [
    {
     "data": {
      "image/png": "[encoded data removed]",
      "text/plain": [
       "<Figure size 576x396 with 1 Axes>"
      ]
     },
     "metadata": {},
     "output_type": "display_data"
    }
   ],
   "source": [
    "RF = rf.steps[1][1]\n",
    "explainer = shap.TreeExplainer(RF)\n",
    "shap_values = explainer.shap_values(X_test)\n",
    "shap.summary_plot(shap_values, X_test, plot_type=\"bar\")"
   ]
  },
  {
   "cell_type": "markdown",
   "metadata": {},
   "source": [
    "Here we get our Feauture importance columns  we can see some of the top columns that had impact on our  RF model"
   ]
  },
  {
   "cell_type": "code",
   "execution_count": 34,
   "metadata": {},
   "outputs": [],
   "source": [
    "para = {'max_depth': [10, 20, 30, 40, 50,],\n",
    "               'max_features': ['auto', 'sqrt'],\n",
    "               'min_samples_leaf': [1, 2, 4,50],\n",
    "               'min_samples_split': [2, 5, 10],\n",
    "               'n_estimators': [130, 180, 230]}"
   ]
  },
  {
   "cell_type": "code",
   "execution_count": 35,
   "metadata": {},
   "outputs": [
    {
     "data": {
      "text/plain": [
       "GridSearchCV(cv=TimeSeriesSplit(gap=0, max_train_size=None, n_splits=5, test_size=None),\n",
       "             estimator=RandomForestRegressor(random_state=123),\n",
       "             param_grid={'max_depth': [10, 20, 30, 40, 50],\n",
       "                         'max_features': ['auto', 'sqrt'],\n",
       "                         'min_samples_leaf': [1, 2, 4, 50],\n",
       "                         'min_samples_split': [2, 5, 10],\n",
       "                         'n_estimators': [130, 180, 230]},\n",
       "             scoring='neg_root_mean_squared_error')"
      ]
     },
     "execution_count": 35,
     "metadata": {},
     "output_type": "execute_result"
    }
   ],
   "source": [
    "model= GridSearchCV(RF,para, scoring = 'neg_root_mean_squared_error', cv = tscv )\n",
    "model.fit(X_train,y_train)"
   ]
  },
  {
   "cell_type": "code",
   "execution_count": 36,
   "metadata": {},
   "outputs": [
    {
     "name": "stdout",
     "output_type": "stream",
     "text": [
      "{'max_depth': 20, 'max_features': 'auto', 'min_samples_leaf': 1, 'min_samples_split': 10, 'n_estimators': 230}\n",
      "25.27791277288765\n"
     ]
    }
   ],
   "source": [
    "print(model.best_params_)\n",
    "print(model.best_score_*-1)\n",
    "\n"
   ]
  },
  {
   "cell_type": "code",
   "execution_count": 37,
   "metadata": {},
   "outputs": [],
   "source": [
    "rf = Pipeline([('scale2',StandardScaler()),(\"RF\", RandomForestRegressor(random_state = 123, max_depth = 20, max_features= 'auto',\n",
    "                                                                        min_samples_leaf= 1, min_samples_split = 10, n_estimators = 230))])"
   ]
  },
  {
   "cell_type": "code",
   "execution_count": 38,
   "metadata": {},
   "outputs": [],
   "source": [
    "rf_model = cross_val_score(rf, X_test,  y_test, cv=tscv, scoring = 'neg_root_mean_squared_error')\n"
   ]
  },
  {
   "cell_type": "code",
   "execution_count": 40,
   "metadata": {},
   "outputs": [
    {
     "name": "stdout",
     "output_type": "stream",
     "text": [
      "[-39.694778   -51.40132222 -34.67089285 -43.590265   -51.18842569]\n",
      "-44.10913675159252\n"
     ]
    }
   ],
   "source": [
    "print(rf_model)\n",
    "print(rf_model.mean())"
   ]
  },
  {
   "cell_type": "markdown",
   "metadata": {},
   "source": [
    "Here we tune our best model which you can see as the cross validate starts in the beginning the num_orders column is more stable  in the charts above and towards the end we get higher spikes making it harder for our model to predict those spikes. "
   ]
  },
  {
   "cell_type": "code",
   "execution_count": 24,
   "metadata": {},
   "outputs": [],
   "source": [
    "rf = Pipeline([('scale2',StandardScaler()),(\"RF\", RandomForestRegressor(random_state = 123, max_depth = 20, max_features= 'auto',\n",
    "                                                                        min_samples_leaf= 1, min_samples_split = 10, n_estimators = 230))])"
   ]
  },
  {
   "cell_type": "code",
   "execution_count": 25,
   "metadata": {},
   "outputs": [],
   "source": [
    "rf.fit(X_train, y_train)\n",
    "y_pred = rf.predict(X_test)\n",
    "RMSE = np.sqrt(mean_squared_error(y_test,y_pred))"
   ]
  },
  {
   "cell_type": "code",
   "execution_count": 27,
   "metadata": {},
   "outputs": [
    {
     "name": "stdout",
     "output_type": "stream",
     "text": [
      "46.73879708543337\n"
     ]
    }
   ],
   "source": [
    "print(RMSE)"
   ]
  },
  {
   "cell_type": "markdown",
   "metadata": {},
   "source": [
    "# In Conslusion"
   ]
  },
  {
   "cell_type": "markdown",
   "metadata": {},
   "source": [
    "Our task  was to predict the amount of taxi orders for the next hour.\n",
    "We needed resample it by one hour. I used the Seasonal Decompe from statsmodel to see trend, seasonality and the residuals. I plotted the ACF .  ACF explains how the present value of a given time series is correlated with the past (1-unit past, 2-unit past, …, n-unit past) values. In the ACF plot, the y-axis expresses the correlation coefficient whereas the x-axis mentions the number of lags. the partial autocorrelation function (PACF) gives the partial correlation of a stationary time series with its own lagged values, regressed the values of the time series at all shorter lags. We can see later in the year our values are descreasing meaning that they not correlated from our past values. I imported new features  using the date,rolling mean and lag method to get new columns. I trained 2 Model using Random Forest and XG Boost  cross validating them scoring  the neg root mean error. We used the libary shap to plot the feature importance of each column in both models . I used grid search to tune our best model which was Random Forest. Our objective was to find a score of RMSE below 48 our average score is 46.7"
   ]
  },
  {
   "cell_type": "code",
   "execution_count": null,
   "metadata": {},
   "outputs": [],
   "source": []
  },
  {
   "cell_type": "code",
   "execution_count": null,
   "metadata": {},
   "outputs": [],
   "source": []
  }
 ],
 "metadata": {
  "ExecuteTimeLog": [
   {
    "duration": 1342,
    "start_time": "2022-07-13T19:03:37.211Z"
   },
   {
    "duration": 149,
    "start_time": "2022-07-13T19:03:48.864Z"
   },
   {
    "duration": 153,
    "start_time": "2022-07-13T19:05:20.639Z"
   },
   {
    "duration": 77,
    "start_time": "2022-07-13T19:05:43.787Z"
   },
   {
    "duration": 17,
    "start_time": "2022-07-13T19:06:27.336Z"
   },
   {
    "duration": 10,
    "start_time": "2022-07-13T19:07:00.975Z"
   },
   {
    "duration": 10,
    "start_time": "2022-07-13T19:07:43.178Z"
   },
   {
    "duration": 14,
    "start_time": "2022-07-13T19:08:06.529Z"
   },
   {
    "duration": 14,
    "start_time": "2022-07-13T19:08:11.515Z"
   },
   {
    "duration": 4,
    "start_time": "2022-07-13T19:08:50.858Z"
   },
   {
    "duration": 11,
    "start_time": "2022-07-13T19:08:55.307Z"
   },
   {
    "duration": 12,
    "start_time": "2022-07-13T19:09:06.678Z"
   },
   {
    "duration": 13,
    "start_time": "2022-07-13T19:09:59.180Z"
   },
   {
    "duration": 9,
    "start_time": "2022-07-13T19:10:55.923Z"
   },
   {
    "duration": 16,
    "start_time": "2022-07-13T19:10:58.970Z"
   },
   {
    "duration": 11,
    "start_time": "2022-07-13T19:10:59.326Z"
   },
   {
    "duration": 682,
    "start_time": "2022-07-13T19:11:16.385Z"
   },
   {
    "duration": 1002,
    "start_time": "2022-07-13T19:11:34.173Z"
   },
   {
    "duration": 1310,
    "start_time": "2022-07-13T19:11:48.913Z"
   },
   {
    "duration": 1655,
    "start_time": "2022-07-13T19:11:57.908Z"
   },
   {
    "duration": 2888,
    "start_time": "2022-07-13T19:12:28.354Z"
   },
   {
    "duration": 8,
    "start_time": "2022-07-13T19:12:54.266Z"
   },
   {
    "duration": 2911,
    "start_time": "2022-07-13T19:12:55.159Z"
   },
   {
    "duration": 630,
    "start_time": "2022-07-13T19:13:38.234Z"
   },
   {
    "duration": 922,
    "start_time": "2022-07-13T19:13:40.613Z"
   },
   {
    "duration": 596,
    "start_time": "2022-07-13T19:13:43.178Z"
   },
   {
    "duration": 608,
    "start_time": "2022-07-13T19:13:44.982Z"
   },
   {
    "duration": 1277,
    "start_time": "2022-07-13T19:14:31.323Z"
   },
   {
    "duration": 7,
    "start_time": "2022-07-13T19:14:46.551Z"
   },
   {
    "duration": 1039,
    "start_time": "2022-07-13T19:14:47.278Z"
   },
   {
    "duration": 4,
    "start_time": "2022-07-13T19:15:33.797Z"
   },
   {
    "duration": 51,
    "start_time": "2022-07-13T19:16:33.414Z"
   },
   {
    "duration": 5,
    "start_time": "2022-07-13T19:16:51.908Z"
   },
   {
    "duration": 3,
    "start_time": "2022-07-13T19:17:23.110Z"
   },
   {
    "duration": 793,
    "start_time": "2022-07-13T19:17:59.290Z"
   },
   {
    "duration": 779,
    "start_time": "2022-07-13T19:18:49.859Z"
   },
   {
    "duration": 805,
    "start_time": "2022-07-13T19:19:01.799Z"
   },
   {
    "duration": 872,
    "start_time": "2022-07-13T19:19:16.542Z"
   },
   {
    "duration": 781,
    "start_time": "2022-07-13T19:20:18.307Z"
   },
   {
    "duration": 11,
    "start_time": "2022-07-13T19:21:10.600Z"
   },
   {
    "duration": 3,
    "start_time": "2022-07-13T19:21:20.283Z"
   },
   {
    "duration": 46,
    "start_time": "2022-07-13T19:21:20.537Z"
   },
   {
    "duration": 10,
    "start_time": "2022-07-13T19:21:20.770Z"
   },
   {
    "duration": 13,
    "start_time": "2022-07-13T19:21:21.001Z"
   },
   {
    "duration": 12,
    "start_time": "2022-07-13T19:21:21.701Z"
   },
   {
    "duration": 8,
    "start_time": "2022-07-13T19:21:22.206Z"
   },
   {
    "duration": 205,
    "start_time": "2022-07-13T19:21:22.410Z"
   },
   {
    "duration": 716,
    "start_time": "2022-07-13T19:21:22.617Z"
   },
   {
    "duration": 237,
    "start_time": "2022-07-13T19:21:23.335Z"
   },
   {
    "duration": 871,
    "start_time": "2022-07-13T19:21:23.573Z"
   },
   {
    "duration": 12,
    "start_time": "2022-07-13T19:21:24.446Z"
   },
   {
    "duration": 4,
    "start_time": "2022-07-13T19:21:51.259Z"
   },
   {
    "duration": 46,
    "start_time": "2022-07-13T19:21:52.039Z"
   },
   {
    "duration": 7,
    "start_time": "2022-07-13T19:21:52.630Z"
   },
   {
    "duration": 12,
    "start_time": "2022-07-13T19:21:52.866Z"
   },
   {
    "duration": 8,
    "start_time": "2022-07-13T19:21:53.126Z"
   },
   {
    "duration": 9,
    "start_time": "2022-07-13T19:21:53.531Z"
   },
   {
    "duration": 218,
    "start_time": "2022-07-13T19:21:53.744Z"
   },
   {
    "duration": 770,
    "start_time": "2022-07-13T19:21:53.964Z"
   },
   {
    "duration": 4,
    "start_time": "2022-07-13T19:22:01.817Z"
   },
   {
    "duration": 8,
    "start_time": "2022-07-13T19:22:03.325Z"
   },
   {
    "duration": 206,
    "start_time": "2022-07-13T19:22:03.589Z"
   },
   {
    "duration": 910,
    "start_time": "2022-07-13T19:22:04.252Z"
   },
   {
    "duration": 4,
    "start_time": "2022-07-13T19:22:15.060Z"
   },
   {
    "duration": 45,
    "start_time": "2022-07-13T19:22:15.325Z"
   },
   {
    "duration": 7,
    "start_time": "2022-07-13T19:22:15.766Z"
   },
   {
    "duration": 13,
    "start_time": "2022-07-13T19:22:15.999Z"
   },
   {
    "duration": 3,
    "start_time": "2022-07-13T19:22:16.215Z"
   },
   {
    "duration": 5,
    "start_time": "2022-07-13T19:22:16.677Z"
   },
   {
    "duration": 209,
    "start_time": "2022-07-13T19:22:16.853Z"
   },
   {
    "duration": 765,
    "start_time": "2022-07-13T19:22:17.088Z"
   },
   {
    "duration": 236,
    "start_time": "2022-07-13T19:22:18.256Z"
   },
   {
    "duration": 811,
    "start_time": "2022-07-13T19:22:21.283Z"
   },
   {
    "duration": 6,
    "start_time": "2022-07-13T19:22:40.709Z"
   },
   {
    "duration": 7,
    "start_time": "2022-07-13T19:23:21.771Z"
   },
   {
    "duration": 7,
    "start_time": "2022-07-13T19:23:26.427Z"
   },
   {
    "duration": 3,
    "start_time": "2022-07-13T19:23:32.467Z"
   },
   {
    "duration": 3,
    "start_time": "2022-07-13T19:23:33.272Z"
   },
   {
    "duration": 204,
    "start_time": "2022-07-13T19:23:33.493Z"
   },
   {
    "duration": 749,
    "start_time": "2022-07-13T19:23:33.987Z"
   },
   {
    "duration": 234,
    "start_time": "2022-07-13T19:23:34.738Z"
   },
   {
    "duration": 786,
    "start_time": "2022-07-13T19:23:34.974Z"
   },
   {
    "duration": 10,
    "start_time": "2022-07-13T19:23:35.762Z"
   },
   {
    "duration": 14,
    "start_time": "2022-07-13T19:25:55.772Z"
   },
   {
    "duration": 12,
    "start_time": "2022-07-13T19:26:03.768Z"
   },
   {
    "duration": 1632,
    "start_time": "2022-07-13T19:26:14.080Z"
   },
   {
    "duration": 770,
    "start_time": "2022-07-13T19:26:45.834Z"
   },
   {
    "duration": 3,
    "start_time": "2022-07-13T19:27:01.710Z"
   },
   {
    "duration": 44,
    "start_time": "2022-07-13T19:27:02.864Z"
   },
   {
    "duration": 8,
    "start_time": "2022-07-13T19:27:03.135Z"
   },
   {
    "duration": 14,
    "start_time": "2022-07-13T19:27:03.366Z"
   },
   {
    "duration": 3,
    "start_time": "2022-07-13T19:27:04.672Z"
   },
   {
    "duration": 3,
    "start_time": "2022-07-13T19:27:05.223Z"
   },
   {
    "duration": 242,
    "start_time": "2022-07-13T19:27:05.463Z"
   },
   {
    "duration": 757,
    "start_time": "2022-07-13T19:27:05.714Z"
   },
   {
    "duration": 301,
    "start_time": "2022-07-13T19:27:06.725Z"
   },
   {
    "duration": 885,
    "start_time": "2022-07-13T19:27:07.253Z"
   },
   {
    "duration": 10,
    "start_time": "2022-07-13T19:38:42.761Z"
   },
   {
    "duration": 4,
    "start_time": "2022-07-13T19:39:09.143Z"
   },
   {
    "duration": 299,
    "start_time": "2022-07-13T19:39:14.800Z"
   },
   {
    "duration": 11,
    "start_time": "2022-07-13T19:39:35.589Z"
   },
   {
    "duration": 207,
    "start_time": "2022-07-13T19:39:50.549Z"
   },
   {
    "duration": 223,
    "start_time": "2022-07-13T19:40:03.641Z"
   },
   {
    "duration": 3,
    "start_time": "2022-07-13T19:40:37.240Z"
   },
   {
    "duration": 174,
    "start_time": "2022-07-13T19:40:38.922Z"
   },
   {
    "duration": 881,
    "start_time": "2022-07-13T19:42:01.666Z"
   },
   {
    "duration": 696,
    "start_time": "2022-07-13T19:42:18.072Z"
   },
   {
    "duration": 47,
    "start_time": "2022-07-13T19:43:17.893Z"
   },
   {
    "duration": 6,
    "start_time": "2022-07-13T19:43:18.794Z"
   },
   {
    "duration": 9,
    "start_time": "2022-07-13T19:43:20.392Z"
   },
   {
    "duration": 3,
    "start_time": "2022-07-13T19:43:23.368Z"
   },
   {
    "duration": 3,
    "start_time": "2022-07-13T19:43:24.558Z"
   },
   {
    "duration": 187,
    "start_time": "2022-07-13T19:43:25.782Z"
   },
   {
    "duration": 785,
    "start_time": "2022-07-13T19:43:27.125Z"
   },
   {
    "duration": 232,
    "start_time": "2022-07-13T19:43:31.903Z"
   },
   {
    "duration": 893,
    "start_time": "2022-07-13T19:43:36.100Z"
   },
   {
    "duration": 15,
    "start_time": "2022-07-13T19:43:41.409Z"
   },
   {
    "duration": 8,
    "start_time": "2022-07-13T19:43:52.454Z"
   },
   {
    "duration": 206,
    "start_time": "2022-07-13T19:43:53.525Z"
   },
   {
    "duration": 6,
    "start_time": "2022-07-13T19:44:16.552Z"
   },
   {
    "duration": 212,
    "start_time": "2022-07-13T19:44:17.357Z"
   },
   {
    "duration": 6,
    "start_time": "2022-07-13T19:44:24.693Z"
   },
   {
    "duration": 208,
    "start_time": "2022-07-13T19:44:26.338Z"
   },
   {
    "duration": 8,
    "start_time": "2022-07-13T19:44:33.231Z"
   },
   {
    "duration": 13,
    "start_time": "2022-07-13T19:44:42.138Z"
   },
   {
    "duration": 11,
    "start_time": "2022-07-13T19:45:42.301Z"
   },
   {
    "duration": 276,
    "start_time": "2022-07-13T19:45:43.237Z"
   },
   {
    "duration": 58,
    "start_time": "2022-07-13T19:47:03.433Z"
   },
   {
    "duration": 9,
    "start_time": "2022-07-13T19:47:04.127Z"
   },
   {
    "duration": 14,
    "start_time": "2022-07-13T19:47:04.855Z"
   },
   {
    "duration": 4,
    "start_time": "2022-07-13T19:47:06.022Z"
   },
   {
    "duration": 4,
    "start_time": "2022-07-13T19:47:07.317Z"
   },
   {
    "duration": 228,
    "start_time": "2022-07-13T19:47:07.583Z"
   },
   {
    "duration": 734,
    "start_time": "2022-07-13T19:47:07.816Z"
   },
   {
    "duration": 272,
    "start_time": "2022-07-13T19:47:08.553Z"
   },
   {
    "duration": 975,
    "start_time": "2022-07-13T19:47:09.503Z"
   },
   {
    "duration": 9,
    "start_time": "2022-07-13T19:52:00.356Z"
   },
   {
    "duration": 14,
    "start_time": "2022-07-13T19:52:05.746Z"
   },
   {
    "duration": 896,
    "start_time": "2022-07-13T19:52:59.627Z"
   },
   {
    "duration": 842,
    "start_time": "2022-07-13T19:53:34.258Z"
   },
   {
    "duration": 1200,
    "start_time": "2022-07-14T20:19:26.676Z"
   },
   {
    "duration": 120,
    "start_time": "2022-07-14T20:19:29.155Z"
   },
   {
    "duration": 12,
    "start_time": "2022-07-14T20:19:30.039Z"
   },
   {
    "duration": 12,
    "start_time": "2022-07-14T20:19:30.827Z"
   },
   {
    "duration": 4,
    "start_time": "2022-07-14T20:19:32.758Z"
   },
   {
    "duration": 4,
    "start_time": "2022-07-14T20:19:33.239Z"
   },
   {
    "duration": 187,
    "start_time": "2022-07-14T20:19:33.455Z"
   },
   {
    "duration": 729,
    "start_time": "2022-07-14T20:19:33.851Z"
   },
   {
    "duration": 254,
    "start_time": "2022-07-14T20:19:34.582Z"
   },
   {
    "duration": 128,
    "start_time": "2022-07-14T20:19:34.838Z"
   },
   {
    "duration": 8,
    "start_time": "2022-07-14T20:19:35.341Z"
   },
   {
    "duration": 641,
    "start_time": "2022-07-14T20:19:35.578Z"
   },
   {
    "duration": 681,
    "start_time": "2022-07-14T20:19:37.366Z"
   },
   {
    "duration": 14,
    "start_time": "2022-07-14T20:21:54.025Z"
   },
   {
    "duration": 10,
    "start_time": "2022-07-14T20:22:00.810Z"
   },
   {
    "duration": 227,
    "start_time": "2022-07-14T20:22:07.238Z"
   },
   {
    "duration": 1493,
    "start_time": "2022-07-14T20:22:08.521Z"
   },
   {
    "duration": 245,
    "start_time": "2022-07-14T20:22:20.640Z"
   },
   {
    "duration": 12,
    "start_time": "2022-07-14T20:22:24.087Z"
   },
   {
    "duration": 4,
    "start_time": "2022-07-14T20:22:25.720Z"
   },
   {
    "duration": 714,
    "start_time": "2022-07-14T20:22:26.368Z"
   },
   {
    "duration": 786,
    "start_time": "2022-07-14T20:22:29.517Z"
   },
   {
    "duration": 5,
    "start_time": "2022-07-14T20:22:35.775Z"
   },
   {
    "duration": 47,
    "start_time": "2022-07-14T20:22:36.559Z"
   },
   {
    "duration": 8,
    "start_time": "2022-07-14T20:22:37.057Z"
   },
   {
    "duration": 12,
    "start_time": "2022-07-14T20:22:37.631Z"
   },
   {
    "duration": 4,
    "start_time": "2022-07-14T20:22:38.864Z"
   },
   {
    "duration": 4,
    "start_time": "2022-07-14T20:22:39.777Z"
   },
   {
    "duration": 192,
    "start_time": "2022-07-14T20:22:40.341Z"
   },
   {
    "duration": 683,
    "start_time": "2022-07-14T20:22:42.080Z"
   },
   {
    "duration": 215,
    "start_time": "2022-07-14T20:22:44.108Z"
   },
   {
    "duration": 943,
    "start_time": "2022-07-14T20:22:46.169Z"
   },
   {
    "duration": 47820,
    "start_time": "2022-07-14T20:24:49.573Z"
   },
   {
    "duration": 89,
    "start_time": "2022-07-14T21:01:41.670Z"
   },
   {
    "duration": 14,
    "start_time": "2022-07-14T21:04:29.839Z"
   },
   {
    "duration": 207,
    "start_time": "2022-07-14T21:04:40.668Z"
   },
   {
    "duration": 208,
    "start_time": "2022-07-14T21:04:58.940Z"
   },
   {
    "duration": 202,
    "start_time": "2022-07-14T21:05:16.773Z"
   },
   {
    "duration": 11,
    "start_time": "2022-07-14T21:06:01.185Z"
   },
   {
    "duration": 10,
    "start_time": "2022-07-14T21:06:05.424Z"
   },
   {
    "duration": 622,
    "start_time": "2022-07-14T21:06:12.021Z"
   },
   {
    "duration": 657,
    "start_time": "2022-07-14T21:06:19.805Z"
   },
   {
    "duration": 7,
    "start_time": "2022-07-14T21:08:50.968Z"
   },
   {
    "duration": 864,
    "start_time": "2022-07-14T21:09:03.665Z"
   },
   {
    "duration": 11,
    "start_time": "2022-07-14T21:10:36.801Z"
   },
   {
    "duration": 9,
    "start_time": "2022-07-14T21:11:42.527Z"
   },
   {
    "duration": 100,
    "start_time": "2022-07-14T21:12:09.816Z"
   },
   {
    "duration": 4,
    "start_time": "2022-07-14T21:12:24.791Z"
   },
   {
    "duration": 47,
    "start_time": "2022-07-14T21:12:25.275Z"
   },
   {
    "duration": 7,
    "start_time": "2022-07-14T21:12:25.577Z"
   },
   {
    "duration": 13,
    "start_time": "2022-07-14T21:12:25.779Z"
   },
   {
    "duration": 5,
    "start_time": "2022-07-14T21:12:26.186Z"
   },
   {
    "duration": 3,
    "start_time": "2022-07-14T21:12:26.598Z"
   },
   {
    "duration": 177,
    "start_time": "2022-07-14T21:12:26.813Z"
   },
   {
    "duration": 625,
    "start_time": "2022-07-14T21:12:27.208Z"
   },
   {
    "duration": 216,
    "start_time": "2022-07-14T21:12:27.835Z"
   },
   {
    "duration": 187,
    "start_time": "2022-07-14T21:12:28.074Z"
   },
   {
    "duration": 99,
    "start_time": "2022-07-14T21:12:30.232Z"
   },
   {
    "duration": 1926,
    "start_time": "2022-07-14T21:12:45.454Z"
   },
   {
    "duration": 1920,
    "start_time": "2022-07-14T21:13:00.567Z"
   },
   {
    "duration": 1848,
    "start_time": "2022-07-14T21:13:16.313Z"
   },
   {
    "duration": 1792,
    "start_time": "2022-07-14T21:13:32.084Z"
   },
   {
    "duration": 8,
    "start_time": "2022-07-14T21:15:50.840Z"
   },
   {
    "duration": 9,
    "start_time": "2022-07-14T21:16:54.076Z"
   },
   {
    "duration": 4,
    "start_time": "2022-07-14T21:17:00.461Z"
   },
   {
    "duration": 11,
    "start_time": "2022-07-14T21:17:05.631Z"
   },
   {
    "duration": 183,
    "start_time": "2022-07-14T21:17:11.733Z"
   },
   {
    "duration": 176,
    "start_time": "2022-07-14T21:18:42.950Z"
   },
   {
    "duration": 198,
    "start_time": "2022-07-14T21:20:04.541Z"
   },
   {
    "duration": 186,
    "start_time": "2022-07-14T21:20:14.791Z"
   },
   {
    "duration": 195,
    "start_time": "2022-07-14T21:21:04.699Z"
   },
   {
    "duration": 213,
    "start_time": "2022-07-14T21:21:15.137Z"
   },
   {
    "duration": 182,
    "start_time": "2022-07-14T21:21:24.772Z"
   },
   {
    "duration": 189,
    "start_time": "2022-07-14T21:21:30.513Z"
   },
   {
    "duration": 190,
    "start_time": "2022-07-14T21:21:35.714Z"
   },
   {
    "duration": 194,
    "start_time": "2022-07-14T21:22:17.573Z"
   },
   {
    "duration": 39,
    "start_time": "2022-07-14T21:22:56.999Z"
   },
   {
    "duration": 8430,
    "start_time": "2022-07-14T21:23:20.815Z"
   },
   {
    "duration": 11,
    "start_time": "2022-07-14T21:23:42.799Z"
   },
   {
    "duration": 2734,
    "start_time": "2022-07-14T21:24:27.412Z"
   },
   {
    "duration": 3,
    "start_time": "2022-07-14T21:38:32.330Z"
   },
   {
    "duration": 187,
    "start_time": "2022-07-14T21:40:11.915Z"
   },
   {
    "duration": 616,
    "start_time": "2022-07-14T21:40:21.473Z"
   },
   {
    "duration": 380,
    "start_time": "2022-07-14T21:40:33.997Z"
   },
   {
    "duration": 342,
    "start_time": "2022-07-14T21:40:39.026Z"
   },
   {
    "duration": 758,
    "start_time": "2022-07-14T21:40:48.741Z"
   },
   {
    "duration": 613,
    "start_time": "2022-07-14T21:41:03.894Z"
   },
   {
    "duration": 359,
    "start_time": "2022-07-14T21:41:22.836Z"
   },
   {
    "duration": 654,
    "start_time": "2022-07-14T21:41:48.080Z"
   },
   {
    "duration": 202,
    "start_time": "2022-07-14T21:42:02.673Z"
   },
   {
    "duration": 243,
    "start_time": "2022-07-14T21:42:50.480Z"
   },
   {
    "duration": 244,
    "start_time": "2022-07-14T21:43:02.934Z"
   },
   {
    "duration": 64,
    "start_time": "2022-07-14T23:11:20.039Z"
   },
   {
    "duration": 18,
    "start_time": "2022-07-14T23:12:08.252Z"
   },
   {
    "duration": 4,
    "start_time": "2022-07-14T23:12:19.588Z"
   },
   {
    "duration": 9,
    "start_time": "2022-07-14T23:12:24.920Z"
   },
   {
    "duration": 9,
    "start_time": "2022-07-14T23:13:55.151Z"
   },
   {
    "duration": 9,
    "start_time": "2022-07-14T23:13:57.070Z"
   },
   {
    "duration": 10,
    "start_time": "2022-07-14T23:15:06.488Z"
   },
   {
    "duration": 7,
    "start_time": "2022-07-14T23:15:20.987Z"
   },
   {
    "duration": 13,
    "start_time": "2022-07-14T23:15:24.503Z"
   },
   {
    "duration": 5,
    "start_time": "2022-07-14T23:16:55.768Z"
   },
   {
    "duration": 9,
    "start_time": "2022-07-14T23:16:56.547Z"
   },
   {
    "duration": 7,
    "start_time": "2022-07-14T23:17:28.843Z"
   },
   {
    "duration": 12,
    "start_time": "2022-07-14T23:17:33.445Z"
   },
   {
    "duration": 5,
    "start_time": "2022-07-14T23:18:27.707Z"
   },
   {
    "duration": 14,
    "start_time": "2022-07-14T23:18:27.714Z"
   },
   {
    "duration": 10,
    "start_time": "2022-07-14T23:19:25.957Z"
   },
   {
    "duration": 10,
    "start_time": "2022-07-14T23:22:18.558Z"
   },
   {
    "duration": 746,
    "start_time": "2022-07-14T23:22:22.973Z"
   },
   {
    "duration": 16,
    "start_time": "2022-07-14T23:22:44.849Z"
   },
   {
    "duration": 11,
    "start_time": "2022-07-14T23:22:47.663Z"
   },
   {
    "duration": 4,
    "start_time": "2022-07-14T23:23:04.847Z"
   },
   {
    "duration": 43,
    "start_time": "2022-07-14T23:23:05.125Z"
   },
   {
    "duration": 6,
    "start_time": "2022-07-14T23:23:05.387Z"
   },
   {
    "duration": 12,
    "start_time": "2022-07-14T23:23:05.636Z"
   },
   {
    "duration": 4,
    "start_time": "2022-07-14T23:23:06.050Z"
   },
   {
    "duration": 4,
    "start_time": "2022-07-14T23:23:06.488Z"
   },
   {
    "duration": 175,
    "start_time": "2022-07-14T23:23:06.708Z"
   },
   {
    "duration": 709,
    "start_time": "2022-07-14T23:23:06.947Z"
   },
   {
    "duration": 216,
    "start_time": "2022-07-14T23:23:07.658Z"
   },
   {
    "duration": 1898,
    "start_time": "2022-07-14T23:23:07.876Z"
   },
   {
    "duration": 198,
    "start_time": "2022-07-14T23:23:09.776Z"
   },
   {
    "duration": 1835,
    "start_time": "2022-07-14T23:23:09.976Z"
   },
   {
    "duration": 18,
    "start_time": "2022-07-14T23:23:11.813Z"
   },
   {
    "duration": 12,
    "start_time": "2022-07-14T23:23:15.760Z"
   },
   {
    "duration": 19,
    "start_time": "2022-07-14T23:23:34.371Z"
   },
   {
    "duration": 17,
    "start_time": "2022-07-14T23:25:17.890Z"
   },
   {
    "duration": 16,
    "start_time": "2022-07-14T23:25:30.677Z"
   },
   {
    "duration": 17,
    "start_time": "2022-07-14T23:25:33.009Z"
   },
   {
    "duration": 15,
    "start_time": "2022-07-14T23:26:29.391Z"
   },
   {
    "duration": 17,
    "start_time": "2022-07-14T23:26:52.213Z"
   },
   {
    "duration": 16,
    "start_time": "2022-07-14T23:27:13.069Z"
   },
   {
    "duration": 17,
    "start_time": "2022-07-14T23:27:14.519Z"
   },
   {
    "duration": 15,
    "start_time": "2022-07-14T23:27:47.274Z"
   },
   {
    "duration": 17,
    "start_time": "2022-07-14T23:27:48.419Z"
   },
   {
    "duration": 22,
    "start_time": "2022-07-14T23:28:05.245Z"
   },
   {
    "duration": 17,
    "start_time": "2022-07-14T23:28:06.588Z"
   },
   {
    "duration": 11,
    "start_time": "2022-07-14T23:28:40.544Z"
   },
   {
    "duration": 23,
    "start_time": "2022-07-14T23:30:31.328Z"
   },
   {
    "duration": 11,
    "start_time": "2022-07-14T23:30:33.055Z"
   },
   {
    "duration": 4,
    "start_time": "2022-07-15T00:20:54.750Z"
   },
   {
    "duration": 4,
    "start_time": "2022-07-15T00:21:07.139Z"
   },
   {
    "duration": 44,
    "start_time": "2022-07-15T00:21:07.904Z"
   },
   {
    "duration": 7,
    "start_time": "2022-07-15T00:21:08.385Z"
   },
   {
    "duration": 13,
    "start_time": "2022-07-15T00:21:08.804Z"
   },
   {
    "duration": 4,
    "start_time": "2022-07-15T00:21:09.450Z"
   },
   {
    "duration": 3,
    "start_time": "2022-07-15T00:21:10.146Z"
   },
   {
    "duration": 185,
    "start_time": "2022-07-15T00:21:10.367Z"
   },
   {
    "duration": 723,
    "start_time": "2022-07-15T00:21:10.629Z"
   },
   {
    "duration": 224,
    "start_time": "2022-07-15T00:21:11.354Z"
   },
   {
    "duration": 1928,
    "start_time": "2022-07-15T00:21:12.093Z"
   },
   {
    "duration": 204,
    "start_time": "2022-07-15T00:21:14.023Z"
   },
   {
    "duration": 1723,
    "start_time": "2022-07-15T00:21:19.882Z"
   },
   {
    "duration": 928,
    "start_time": "2022-07-15T00:21:46.544Z"
   },
   {
    "duration": 9,
    "start_time": "2022-07-15T00:36:54.516Z"
   },
   {
    "duration": 224,
    "start_time": "2022-07-15T00:37:19.750Z"
   },
   {
    "duration": 24,
    "start_time": "2022-07-15T00:37:33.930Z"
   },
   {
    "duration": 5,
    "start_time": "2022-07-15T00:37:41.255Z"
   },
   {
    "duration": 13,
    "start_time": "2022-07-15T00:37:53.191Z"
   },
   {
    "duration": 4,
    "start_time": "2022-07-15T00:38:02.149Z"
   },
   {
    "duration": 21,
    "start_time": "2022-07-15T00:39:16.951Z"
   },
   {
    "duration": 51,
    "start_time": "2022-07-15T00:39:19.246Z"
   },
   {
    "duration": 7,
    "start_time": "2022-07-15T00:39:19.969Z"
   },
   {
    "duration": 13,
    "start_time": "2022-07-15T00:39:20.203Z"
   },
   {
    "duration": 4,
    "start_time": "2022-07-15T00:39:20.682Z"
   },
   {
    "duration": 3,
    "start_time": "2022-07-15T00:39:21.188Z"
   },
   {
    "duration": 178,
    "start_time": "2022-07-15T00:39:21.434Z"
   },
   {
    "duration": 638,
    "start_time": "2022-07-15T00:39:21.692Z"
   },
   {
    "duration": 199,
    "start_time": "2022-07-15T00:39:22.362Z"
   },
   {
    "duration": 1672,
    "start_time": "2022-07-15T00:39:22.893Z"
   },
   {
    "duration": 210,
    "start_time": "2022-07-15T00:39:24.566Z"
   },
   {
    "duration": 1653,
    "start_time": "2022-07-15T00:39:25.152Z"
   },
   {
    "duration": 833,
    "start_time": "2022-07-15T00:39:26.888Z"
   },
   {
    "duration": 28,
    "start_time": "2022-07-15T00:39:29.110Z"
   },
   {
    "duration": 12,
    "start_time": "2022-07-15T00:39:30.630Z"
   },
   {
    "duration": 7,
    "start_time": "2022-07-15T00:39:33.052Z"
   },
   {
    "duration": 11,
    "start_time": "2022-07-15T00:43:12.642Z"
   },
   {
    "duration": 43209,
    "start_time": "2022-07-15T00:43:18.410Z"
   },
   {
    "duration": 27,
    "start_time": "2022-07-15T00:44:01.626Z"
   },
   {
    "duration": 262,
    "start_time": "2022-07-15T00:44:18.224Z"
   },
   {
    "duration": 379,
    "start_time": "2022-07-15T00:44:35.598Z"
   },
   {
    "duration": 49,
    "start_time": "2022-07-15T00:45:36.276Z"
   },
   {
    "duration": 51857,
    "start_time": "2022-07-15T00:45:41.218Z"
   },
   {
    "duration": 4,
    "start_time": "2022-07-15T00:48:04.125Z"
   },
   {
    "duration": 5,
    "start_time": "2022-07-15T00:48:07.298Z"
   },
   {
    "duration": 19,
    "start_time": "2022-07-15T00:48:36.219Z"
   },
   {
    "duration": 44,
    "start_time": "2022-07-15T00:48:42.170Z"
   },
   {
    "duration": 256,
    "start_time": "2022-07-15T00:48:51.255Z"
   },
   {
    "duration": 2255,
    "start_time": "2022-07-16T22:34:40.524Z"
   },
   {
    "duration": 0,
    "start_time": "2022-07-16T22:34:42.781Z"
   },
   {
    "duration": 0,
    "start_time": "2022-07-16T22:34:42.782Z"
   },
   {
    "duration": 0,
    "start_time": "2022-07-16T22:34:42.783Z"
   },
   {
    "duration": 13,
    "start_time": "2022-07-16T22:34:53.879Z"
   },
   {
    "duration": 4474,
    "start_time": "2022-07-16T22:35:13.742Z"
   },
   {
    "duration": 1960,
    "start_time": "2022-07-16T22:35:26.001Z"
   },
   {
    "duration": 103,
    "start_time": "2022-07-16T22:35:30.315Z"
   },
   {
    "duration": 147,
    "start_time": "2022-07-16T22:35:45.441Z"
   },
   {
    "duration": 10,
    "start_time": "2022-07-16T22:35:47.282Z"
   },
   {
    "duration": 13,
    "start_time": "2022-07-16T22:35:48.010Z"
   },
   {
    "duration": 10,
    "start_time": "2022-07-16T22:35:48.670Z"
   },
   {
    "duration": 4,
    "start_time": "2022-07-16T22:35:51.024Z"
   },
   {
    "duration": 4,
    "start_time": "2022-07-16T22:35:52.523Z"
   },
   {
    "duration": 210,
    "start_time": "2022-07-16T22:35:53.228Z"
   },
   {
    "duration": 668,
    "start_time": "2022-07-16T22:35:54.750Z"
   },
   {
    "duration": 9,
    "start_time": "2022-07-16T22:35:59.677Z"
   },
   {
    "duration": 6,
    "start_time": "2022-07-16T22:36:05.184Z"
   },
   {
    "duration": 703,
    "start_time": "2022-07-16T22:36:07.561Z"
   },
   {
    "duration": 800,
    "start_time": "2022-07-16T22:36:16.954Z"
   },
   {
    "duration": 12,
    "start_time": "2022-07-16T22:36:25.567Z"
   },
   {
    "duration": 169,
    "start_time": "2022-07-16T22:36:27.197Z"
   },
   {
    "duration": 159,
    "start_time": "2022-07-16T22:36:37.491Z"
   },
   {
    "duration": 367,
    "start_time": "2022-07-16T22:36:43.211Z"
   },
   {
    "duration": 505,
    "start_time": "2022-07-16T22:36:46.824Z"
   },
   {
    "duration": 16,
    "start_time": "2022-07-16T22:36:59.746Z"
   },
   {
    "duration": 14,
    "start_time": "2022-07-16T22:37:01.077Z"
   },
   {
    "duration": 826,
    "start_time": "2022-07-16T22:37:03.493Z"
   },
   {
    "duration": 153,
    "start_time": "2022-07-16T22:37:07.504Z"
   },
   {
    "duration": 7,
    "start_time": "2022-07-16T22:37:14.571Z"
   },
   {
    "duration": 18,
    "start_time": "2022-07-16T22:38:25.825Z"
   },
   {
    "duration": 13,
    "start_time": "2022-07-16T22:38:44.253Z"
   },
   {
    "duration": 6,
    "start_time": "2022-07-16T22:39:07.495Z"
   },
   {
    "duration": 6,
    "start_time": "2022-07-16T22:39:19.675Z"
   },
   {
    "duration": 3,
    "start_time": "2022-07-16T22:39:21.088Z"
   },
   {
    "duration": 1430,
    "start_time": "2022-07-16T22:39:21.669Z"
   },
   {
    "duration": 5271,
    "start_time": "2022-07-16T22:39:23.101Z"
   },
   {
    "duration": 8,
    "start_time": "2022-07-16T22:39:32.550Z"
   },
   {
    "duration": 5662,
    "start_time": "2022-07-16T22:39:45.623Z"
   },
   {
    "duration": 7,
    "start_time": "2022-07-16T22:39:51.287Z"
   },
   {
    "duration": 3002,
    "start_time": "2022-07-16T22:39:55.780Z"
   },
   {
    "duration": 261,
    "start_time": "2022-07-16T22:40:00.288Z"
   },
   {
    "duration": 219,
    "start_time": "2022-07-16T22:40:17.431Z"
   },
   {
    "duration": 202,
    "start_time": "2022-07-16T22:40:26.657Z"
   },
   {
    "duration": 200,
    "start_time": "2022-07-16T22:40:36.134Z"
   },
   {
    "duration": 3,
    "start_time": "2022-07-16T22:40:45.885Z"
   },
   {
    "duration": 910,
    "start_time": "2022-07-16T22:40:47.760Z"
   },
   {
    "duration": 302,
    "start_time": "2022-07-16T22:40:49.093Z"
   },
   {
    "duration": 5,
    "start_time": "2022-07-16T22:41:13.319Z"
   },
   {
    "duration": 45,
    "start_time": "2022-07-16T22:41:13.575Z"
   },
   {
    "duration": 7,
    "start_time": "2022-07-16T22:41:13.923Z"
   },
   {
    "duration": 13,
    "start_time": "2022-07-16T22:41:14.162Z"
   },
   {
    "duration": 11,
    "start_time": "2022-07-16T22:41:14.363Z"
   },
   {
    "duration": 4,
    "start_time": "2022-07-16T22:41:14.539Z"
   },
   {
    "duration": 4,
    "start_time": "2022-07-16T22:41:14.916Z"
   },
   {
    "duration": 180,
    "start_time": "2022-07-16T22:41:15.115Z"
   },
   {
    "duration": 817,
    "start_time": "2022-07-16T22:41:15.316Z"
   },
   {
    "duration": 7,
    "start_time": "2022-07-16T22:41:16.161Z"
   },
   {
    "duration": 633,
    "start_time": "2022-07-16T22:41:16.806Z"
   },
   {
    "duration": 12,
    "start_time": "2022-07-16T22:41:17.447Z"
   },
   {
    "duration": 138,
    "start_time": "2022-07-16T22:41:17.903Z"
   },
   {
    "duration": 384,
    "start_time": "2022-07-16T22:41:18.783Z"
   },
   {
    "duration": 607,
    "start_time": "2022-07-16T22:41:19.257Z"
   },
   {
    "duration": 16,
    "start_time": "2022-07-16T22:41:20.580Z"
   },
   {
    "duration": 18,
    "start_time": "2022-07-16T22:41:21.076Z"
   },
   {
    "duration": 827,
    "start_time": "2022-07-16T22:41:21.598Z"
   },
   {
    "duration": 158,
    "start_time": "2022-07-16T22:41:22.427Z"
   },
   {
    "duration": 7,
    "start_time": "2022-07-16T22:41:22.765Z"
   },
   {
    "duration": 3,
    "start_time": "2022-07-16T22:41:24.884Z"
   },
   {
    "duration": 1508,
    "start_time": "2022-07-16T22:41:25.281Z"
   },
   {
    "duration": 5771,
    "start_time": "2022-07-16T22:41:26.791Z"
   },
   {
    "duration": 8,
    "start_time": "2022-07-16T22:41:32.564Z"
   },
   {
    "duration": 3407,
    "start_time": "2022-07-16T22:41:32.574Z"
   },
   {
    "duration": 217,
    "start_time": "2022-07-16T22:41:35.983Z"
   },
   {
    "duration": 2,
    "start_time": "2022-07-16T22:41:36.202Z"
   },
   {
    "duration": 555,
    "start_time": "2022-07-16T22:41:36.206Z"
   },
   {
    "duration": 356,
    "start_time": "2022-07-16T22:41:36.845Z"
   },
   {
    "duration": 1500,
    "start_time": "2022-07-16T22:44:51.114Z"
   },
   {
    "duration": 201,
    "start_time": "2022-07-16T22:45:13.021Z"
   },
   {
    "duration": 1029,
    "start_time": "2022-07-16T22:46:02.557Z"
   },
   {
    "duration": 6,
    "start_time": "2022-07-16T22:56:41.938Z"
   },
   {
    "duration": 6,
    "start_time": "2022-07-16T23:04:19.160Z"
   },
   {
    "duration": 4,
    "start_time": "2022-07-16T23:04:21.859Z"
   },
   {
    "duration": 3837,
    "start_time": "2022-07-16T23:04:22.372Z"
   },
   {
    "duration": 14946,
    "start_time": "2022-07-16T23:04:26.211Z"
   },
   {
    "duration": 8,
    "start_time": "2022-07-16T23:04:41.159Z"
   },
   {
    "duration": 3177,
    "start_time": "2022-07-16T23:04:41.169Z"
   },
   {
    "duration": 208,
    "start_time": "2022-07-16T23:04:44.348Z"
   },
   {
    "duration": 2,
    "start_time": "2022-07-16T23:04:44.559Z"
   },
   {
    "duration": 595,
    "start_time": "2022-07-16T23:04:44.563Z"
   },
   {
    "duration": 552,
    "start_time": "2022-07-16T23:04:45.160Z"
   },
   {
    "duration": 1481,
    "start_time": "2022-07-16T23:04:45.713Z"
   },
   {
    "duration": 195,
    "start_time": "2022-07-16T23:04:47.197Z"
   },
   {
    "duration": 1081,
    "start_time": "2022-07-16T23:04:47.394Z"
   },
   {
    "duration": 3,
    "start_time": "2022-07-16T23:04:48.476Z"
   },
   {
    "duration": 0,
    "start_time": "2022-07-16T23:04:48.535Z"
   },
   {
    "duration": 67,
    "start_time": "2022-07-16T23:05:25.989Z"
   },
   {
    "duration": 14,
    "start_time": "2022-07-16T23:05:31.855Z"
   },
   {
    "duration": 1283499,
    "start_time": "2022-07-16T23:05:40.001Z"
   },
   {
    "duration": 13,
    "start_time": "2022-07-17T00:09:02.115Z"
   },
   {
    "duration": 3,
    "start_time": "2022-07-17T00:09:06.991Z"
   },
   {
    "duration": 5,
    "start_time": "2022-07-17T00:09:35.370Z"
   },
   {
    "duration": 3,
    "start_time": "2022-07-17T00:10:38.096Z"
   },
   {
    "duration": 4,
    "start_time": "2022-07-17T00:10:57.886Z"
   },
   {
    "duration": 14,
    "start_time": "2022-07-17T00:13:01.034Z"
   },
   {
    "duration": 3,
    "start_time": "2022-07-17T00:13:11.615Z"
   },
   {
    "duration": 6938,
    "start_time": "2022-07-17T00:14:05.309Z"
   },
   {
    "duration": 6931,
    "start_time": "2022-07-17T00:14:44.022Z"
   },
   {
    "duration": 5,
    "start_time": "2022-07-17T00:16:52.733Z"
   },
   {
    "duration": 6939,
    "start_time": "2022-07-17T00:17:29.407Z"
   },
   {
    "duration": 3,
    "start_time": "2022-07-17T00:17:37.262Z"
   },
   {
    "duration": 17,
    "start_time": "2022-07-17T00:55:23.387Z"
   },
   {
    "duration": 5,
    "start_time": "2022-07-17T00:55:33.413Z"
   },
   {
    "duration": 44,
    "start_time": "2022-07-17T00:55:33.789Z"
   },
   {
    "duration": 6,
    "start_time": "2022-07-17T00:55:33.993Z"
   },
   {
    "duration": 12,
    "start_time": "2022-07-17T00:55:34.353Z"
   },
   {
    "duration": 11,
    "start_time": "2022-07-17T00:55:34.559Z"
   },
   {
    "duration": 4,
    "start_time": "2022-07-17T00:55:34.745Z"
   },
   {
    "duration": 3,
    "start_time": "2022-07-17T00:55:35.157Z"
   },
   {
    "duration": 178,
    "start_time": "2022-07-17T00:55:35.365Z"
   },
   {
    "duration": 681,
    "start_time": "2022-07-17T00:55:35.545Z"
   },
   {
    "duration": 7,
    "start_time": "2022-07-17T00:55:36.339Z"
   },
   {
    "duration": 731,
    "start_time": "2022-07-17T00:55:36.944Z"
   },
   {
    "duration": 11,
    "start_time": "2022-07-17T00:55:37.677Z"
   },
   {
    "duration": 143,
    "start_time": "2022-07-17T00:55:37.973Z"
   },
   {
    "duration": 394,
    "start_time": "2022-07-17T00:55:38.846Z"
   },
   {
    "duration": 563,
    "start_time": "2022-07-17T00:55:39.286Z"
   },
   {
    "duration": 16,
    "start_time": "2022-07-17T00:55:40.625Z"
   },
   {
    "duration": 14,
    "start_time": "2022-07-17T00:55:41.105Z"
   },
   {
    "duration": 847,
    "start_time": "2022-07-17T00:55:41.550Z"
   },
   {
    "duration": 167,
    "start_time": "2022-07-17T00:55:42.399Z"
   },
   {
    "duration": 6,
    "start_time": "2022-07-17T00:55:42.621Z"
   },
   {
    "duration": 3,
    "start_time": "2022-07-17T00:55:43.073Z"
   },
   {
    "duration": 4069,
    "start_time": "2022-07-17T00:55:43.309Z"
   },
   {
    "duration": 14315,
    "start_time": "2022-07-17T00:55:47.380Z"
   },
   {
    "duration": 52,
    "start_time": "2022-07-17T00:56:01.696Z"
   },
   {
    "duration": 3343,
    "start_time": "2022-07-17T00:56:01.751Z"
   },
   {
    "duration": 244,
    "start_time": "2022-07-17T00:56:05.096Z"
   },
   {
    "duration": 4,
    "start_time": "2022-07-17T00:56:05.341Z"
   },
   {
    "duration": 699,
    "start_time": "2022-07-17T00:56:05.347Z"
   },
   {
    "duration": 357,
    "start_time": "2022-07-17T00:56:06.048Z"
   },
   {
    "duration": 1541,
    "start_time": "2022-07-17T00:56:06.407Z"
   },
   {
    "duration": 203,
    "start_time": "2022-07-17T00:56:07.950Z"
   },
   {
    "duration": 29144,
    "start_time": "2022-07-17T00:56:08.155Z"
   },
   {
    "duration": 4,
    "start_time": "2022-07-17T00:56:37.301Z"
   },
   {
    "duration": 2316,
    "start_time": "2022-07-17T01:13:13.823Z"
   },
   {
    "duration": 47,
    "start_time": "2022-07-17T01:13:16.141Z"
   },
   {
    "duration": 11,
    "start_time": "2022-07-17T01:13:16.189Z"
   },
   {
    "duration": 12,
    "start_time": "2022-07-17T01:13:16.202Z"
   },
   {
    "duration": 9,
    "start_time": "2022-07-17T01:13:16.215Z"
   },
   {
    "duration": 3,
    "start_time": "2022-07-17T01:13:16.225Z"
   },
   {
    "duration": 18,
    "start_time": "2022-07-17T01:13:16.229Z"
   },
   {
    "duration": 195,
    "start_time": "2022-07-17T01:13:16.249Z"
   },
   {
    "duration": 663,
    "start_time": "2022-07-17T01:13:16.446Z"
   },
   {
    "duration": 9,
    "start_time": "2022-07-17T01:13:17.111Z"
   },
   {
    "duration": 703,
    "start_time": "2022-07-17T01:13:17.121Z"
   },
   {
    "duration": 11,
    "start_time": "2022-07-17T01:13:17.826Z"
   },
   {
    "duration": 138,
    "start_time": "2022-07-17T01:13:17.838Z"
   },
   {
    "duration": 349,
    "start_time": "2022-07-17T01:13:17.978Z"
   },
   {
    "duration": 674,
    "start_time": "2022-07-17T01:13:18.329Z"
   },
   {
    "duration": 16,
    "start_time": "2022-07-17T01:13:19.004Z"
   },
   {
    "duration": 25,
    "start_time": "2022-07-17T01:13:19.022Z"
   },
   {
    "duration": 928,
    "start_time": "2022-07-17T01:13:19.049Z"
   },
   {
    "duration": 155,
    "start_time": "2022-07-17T01:13:19.979Z"
   },
   {
    "duration": 13,
    "start_time": "2022-07-17T01:13:20.136Z"
   },
   {
    "duration": 14,
    "start_time": "2022-07-17T01:13:20.151Z"
   },
   {
    "duration": 3877,
    "start_time": "2022-07-17T01:13:20.166Z"
   },
   {
    "duration": 523635,
    "start_time": "2022-07-17T01:13:24.046Z"
   },
   {
    "duration": 8,
    "start_time": "2022-07-17T01:22:07.683Z"
   },
   {
    "duration": 104803,
    "start_time": "2022-07-17T01:22:07.693Z"
   },
   {
    "duration": 309,
    "start_time": "2022-07-17T01:23:52.498Z"
   },
   {
    "duration": 3,
    "start_time": "2022-07-17T01:23:52.809Z"
   },
   {
    "duration": 663,
    "start_time": "2022-07-17T01:23:52.816Z"
   },
   {
    "duration": 429,
    "start_time": "2022-07-17T01:23:53.481Z"
   },
   {
    "duration": 1492,
    "start_time": "2022-07-17T01:23:53.911Z"
   },
   {
    "duration": 202,
    "start_time": "2022-07-17T01:23:55.405Z"
   },
   {
    "duration": 28786,
    "start_time": "2022-07-17T01:23:55.608Z"
   },
   {
    "duration": 3,
    "start_time": "2022-07-17T01:24:24.396Z"
   },
   {
    "duration": 1283593,
    "start_time": "2022-07-17T01:24:24.401Z"
   },
   {
    "duration": 4,
    "start_time": "2022-07-17T01:45:47.995Z"
   },
   {
    "duration": 7,
    "start_time": "2022-07-17T01:45:48.000Z"
   },
   {
    "duration": 7038,
    "start_time": "2022-07-17T01:45:48.008Z"
   },
   {
    "duration": 4,
    "start_time": "2022-07-17T01:45:55.047Z"
   },
   {
    "duration": 68,
    "start_time": "2022-07-17T01:45:55.052Z"
   },
   {
    "duration": 5,
    "start_time": "2022-07-17T04:55:35.105Z"
   },
   {
    "duration": 1706,
    "start_time": "2022-07-17T22:59:23.246Z"
   },
   {
    "duration": 0,
    "start_time": "2022-07-17T22:59:24.954Z"
   },
   {
    "duration": 0,
    "start_time": "2022-07-17T22:59:24.955Z"
   },
   {
    "duration": 0,
    "start_time": "2022-07-17T22:59:24.957Z"
   },
   {
    "duration": 0,
    "start_time": "2022-07-17T22:59:24.958Z"
   },
   {
    "duration": 0,
    "start_time": "2022-07-17T22:59:24.959Z"
   },
   {
    "duration": 0,
    "start_time": "2022-07-17T22:59:24.960Z"
   },
   {
    "duration": 0,
    "start_time": "2022-07-17T22:59:24.961Z"
   },
   {
    "duration": 0,
    "start_time": "2022-07-17T22:59:24.963Z"
   },
   {
    "duration": 0,
    "start_time": "2022-07-17T22:59:24.964Z"
   },
   {
    "duration": 0,
    "start_time": "2022-07-17T22:59:24.965Z"
   },
   {
    "duration": 0,
    "start_time": "2022-07-17T22:59:24.966Z"
   },
   {
    "duration": 0,
    "start_time": "2022-07-17T22:59:24.967Z"
   },
   {
    "duration": 0,
    "start_time": "2022-07-17T22:59:24.968Z"
   },
   {
    "duration": 0,
    "start_time": "2022-07-17T22:59:24.969Z"
   },
   {
    "duration": 0,
    "start_time": "2022-07-17T22:59:24.970Z"
   },
   {
    "duration": 0,
    "start_time": "2022-07-17T22:59:24.971Z"
   },
   {
    "duration": 0,
    "start_time": "2022-07-17T22:59:24.972Z"
   },
   {
    "duration": 0,
    "start_time": "2022-07-17T22:59:24.973Z"
   },
   {
    "duration": 0,
    "start_time": "2022-07-17T22:59:24.974Z"
   },
   {
    "duration": 0,
    "start_time": "2022-07-17T22:59:25.009Z"
   },
   {
    "duration": 0,
    "start_time": "2022-07-17T22:59:25.010Z"
   },
   {
    "duration": 0,
    "start_time": "2022-07-17T22:59:25.012Z"
   },
   {
    "duration": 0,
    "start_time": "2022-07-17T22:59:25.013Z"
   },
   {
    "duration": 0,
    "start_time": "2022-07-17T22:59:25.014Z"
   },
   {
    "duration": 0,
    "start_time": "2022-07-17T22:59:25.015Z"
   },
   {
    "duration": 0,
    "start_time": "2022-07-17T22:59:25.016Z"
   },
   {
    "duration": 0,
    "start_time": "2022-07-17T22:59:25.017Z"
   },
   {
    "duration": 0,
    "start_time": "2022-07-17T22:59:25.018Z"
   },
   {
    "duration": 0,
    "start_time": "2022-07-17T22:59:25.019Z"
   },
   {
    "duration": 0,
    "start_time": "2022-07-17T22:59:25.020Z"
   },
   {
    "duration": 0,
    "start_time": "2022-07-17T22:59:25.021Z"
   },
   {
    "duration": 0,
    "start_time": "2022-07-17T22:59:25.022Z"
   },
   {
    "duration": 0,
    "start_time": "2022-07-17T22:59:25.023Z"
   },
   {
    "duration": 0,
    "start_time": "2022-07-17T22:59:25.024Z"
   },
   {
    "duration": 0,
    "start_time": "2022-07-17T22:59:25.025Z"
   },
   {
    "duration": 0,
    "start_time": "2022-07-17T22:59:25.026Z"
   },
   {
    "duration": 0,
    "start_time": "2022-07-17T22:59:25.027Z"
   },
   {
    "duration": 11,
    "start_time": "2022-07-17T23:00:15.960Z"
   },
   {
    "duration": 3489,
    "start_time": "2022-07-17T23:00:36.537Z"
   },
   {
    "duration": 1192,
    "start_time": "2022-07-17T23:00:44.487Z"
   },
   {
    "duration": 116,
    "start_time": "2022-07-17T23:00:45.924Z"
   },
   {
    "duration": 10,
    "start_time": "2022-07-17T23:00:46.788Z"
   },
   {
    "duration": 12,
    "start_time": "2022-07-17T23:00:46.987Z"
   },
   {
    "duration": 10,
    "start_time": "2022-07-17T23:00:47.161Z"
   },
   {
    "duration": 3,
    "start_time": "2022-07-17T23:00:47.338Z"
   },
   {
    "duration": 3,
    "start_time": "2022-07-17T23:00:47.709Z"
   },
   {
    "duration": 233,
    "start_time": "2022-07-17T23:00:47.870Z"
   },
   {
    "duration": 709,
    "start_time": "2022-07-17T23:00:48.105Z"
   },
   {
    "duration": 9,
    "start_time": "2022-07-17T23:00:48.816Z"
   },
   {
    "duration": 697,
    "start_time": "2022-07-17T23:00:49.591Z"
   },
   {
    "duration": 11,
    "start_time": "2022-07-17T23:00:50.399Z"
   },
   {
    "duration": 144,
    "start_time": "2022-07-17T23:00:50.783Z"
   },
   {
    "duration": 2150,
    "start_time": "2022-07-17T23:00:51.368Z"
   },
   {
    "duration": 428,
    "start_time": "2022-07-17T23:00:53.520Z"
   },
   {
    "duration": 810,
    "start_time": "2022-07-17T23:00:53.950Z"
   },
   {
    "duration": 16,
    "start_time": "2022-07-17T23:00:54.762Z"
   },
   {
    "duration": 23,
    "start_time": "2022-07-17T23:00:54.780Z"
   },
   {
    "duration": 852,
    "start_time": "2022-07-17T23:00:54.804Z"
   },
   {
    "duration": 162,
    "start_time": "2022-07-17T23:00:55.657Z"
   },
   {
    "duration": 5,
    "start_time": "2022-07-17T23:00:55.821Z"
   },
   {
    "duration": 7,
    "start_time": "2022-07-17T23:00:55.828Z"
   },
   {
    "duration": 3991,
    "start_time": "2022-07-17T23:00:55.836Z"
   },
   {
    "duration": 24627,
    "start_time": "2022-07-17T23:00:59.829Z"
   },
   {
    "duration": 56,
    "start_time": "2022-07-17T23:01:24.458Z"
   },
   {
    "duration": 3596,
    "start_time": "2022-07-17T23:01:24.515Z"
   },
   {
    "duration": 286,
    "start_time": "2022-07-17T23:01:28.114Z"
   },
   {
    "duration": 2,
    "start_time": "2022-07-17T23:01:28.402Z"
   },
   {
    "duration": 623,
    "start_time": "2022-07-17T23:01:28.406Z"
   },
   {
    "duration": 521,
    "start_time": "2022-07-17T23:01:29.031Z"
   },
   {
    "duration": 1544,
    "start_time": "2022-07-17T23:01:29.554Z"
   },
   {
    "duration": 223,
    "start_time": "2022-07-17T23:01:31.100Z"
   },
   {
    "duration": 28844,
    "start_time": "2022-07-17T23:01:31.325Z"
   },
   {
    "duration": 5,
    "start_time": "2022-07-17T23:02:00.171Z"
   },
   {
    "duration": 1330686,
    "start_time": "2022-07-17T23:02:00.177Z"
   },
   {
    "duration": 4,
    "start_time": "2022-07-17T23:24:10.864Z"
   },
   {
    "duration": 8,
    "start_time": "2022-07-17T23:24:10.870Z"
   },
   {
    "duration": 1642,
    "start_time": "2022-07-17T23:24:10.880Z"
   },
   {
    "duration": 4,
    "start_time": "2022-07-17T23:24:12.524Z"
   },
   {
    "duration": 2669,
    "start_time": "2022-07-18T21:59:22.748Z"
   },
   {
    "duration": 12,
    "start_time": "2022-07-18T21:59:31.499Z"
   },
   {
    "duration": 3666,
    "start_time": "2022-07-18T21:59:43.785Z"
   },
   {
    "duration": 2753,
    "start_time": "2022-07-18T22:00:02.793Z"
   },
   {
    "duration": 2483,
    "start_time": "2022-07-18T22:03:13.604Z"
   },
   {
    "duration": 121,
    "start_time": "2022-07-18T22:03:16.089Z"
   },
   {
    "duration": 10,
    "start_time": "2022-07-18T22:03:16.211Z"
   },
   {
    "duration": 14,
    "start_time": "2022-07-18T22:03:16.223Z"
   },
   {
    "duration": 10,
    "start_time": "2022-07-18T22:03:16.238Z"
   },
   {
    "duration": 3,
    "start_time": "2022-07-18T22:03:16.249Z"
   },
   {
    "duration": 17,
    "start_time": "2022-07-18T22:03:16.254Z"
   },
   {
    "duration": 217,
    "start_time": "2022-07-18T22:03:16.273Z"
   },
   {
    "duration": 756,
    "start_time": "2022-07-18T22:03:16.491Z"
   },
   {
    "duration": 8,
    "start_time": "2022-07-18T22:03:17.250Z"
   },
   {
    "duration": 722,
    "start_time": "2022-07-18T22:03:17.260Z"
   },
   {
    "duration": 15,
    "start_time": "2022-07-18T22:03:17.984Z"
   },
   {
    "duration": 149,
    "start_time": "2022-07-18T22:03:18.000Z"
   },
   {
    "duration": 2125,
    "start_time": "2022-07-18T22:03:18.150Z"
   },
   {
    "duration": 454,
    "start_time": "2022-07-18T22:03:20.278Z"
   },
   {
    "duration": 644,
    "start_time": "2022-07-18T22:03:20.734Z"
   },
   {
    "duration": 18,
    "start_time": "2022-07-18T22:03:21.380Z"
   },
   {
    "duration": 25,
    "start_time": "2022-07-18T22:03:21.399Z"
   },
   {
    "duration": 1078,
    "start_time": "2022-07-18T22:03:21.426Z"
   },
   {
    "duration": 187,
    "start_time": "2022-07-18T22:03:22.506Z"
   },
   {
    "duration": 7,
    "start_time": "2022-07-18T22:03:22.695Z"
   },
   {
    "duration": 18,
    "start_time": "2022-07-18T22:03:22.704Z"
   },
   {
    "duration": 4112,
    "start_time": "2022-07-18T22:03:22.724Z"
   },
   {
    "duration": 14986,
    "start_time": "2022-07-18T22:03:26.838Z"
   },
   {
    "duration": 8,
    "start_time": "2022-07-18T22:03:41.826Z"
   },
   {
    "duration": 3529,
    "start_time": "2022-07-18T22:03:41.836Z"
   },
   {
    "duration": 311,
    "start_time": "2022-07-18T22:03:45.367Z"
   },
   {
    "duration": 2,
    "start_time": "2022-07-18T22:03:45.682Z"
   },
   {
    "duration": 643,
    "start_time": "2022-07-18T22:03:45.686Z"
   },
   {
    "duration": 460,
    "start_time": "2022-07-18T22:03:46.331Z"
   },
   {
    "duration": 1608,
    "start_time": "2022-07-18T22:03:46.792Z"
   },
   {
    "duration": 212,
    "start_time": "2022-07-18T22:03:48.402Z"
   },
   {
    "duration": 30407,
    "start_time": "2022-07-18T22:03:48.616Z"
   },
   {
    "duration": 4,
    "start_time": "2022-07-18T22:04:19.024Z"
   },
   {
    "duration": 1356572,
    "start_time": "2022-07-18T22:04:19.029Z"
   },
   {
    "duration": 4,
    "start_time": "2022-07-18T22:26:55.602Z"
   },
   {
    "duration": 15,
    "start_time": "2022-07-18T22:26:55.607Z"
   },
   {
    "duration": 1552,
    "start_time": "2022-07-18T22:26:55.624Z"
   },
   {
    "duration": 165,
    "start_time": "2022-07-18T22:26:57.178Z"
   },
   {
    "duration": 0,
    "start_time": "2022-07-18T22:26:57.345Z"
   },
   {
    "duration": 0,
    "start_time": "2022-07-18T22:26:57.346Z"
   },
   {
    "duration": 0,
    "start_time": "2022-07-18T22:26:57.347Z"
   },
   {
    "duration": 0,
    "start_time": "2022-07-18T22:26:57.348Z"
   },
   {
    "duration": 3,
    "start_time": "2022-07-19T00:41:58.916Z"
   },
   {
    "duration": 4,
    "start_time": "2022-07-19T00:42:01.740Z"
   },
   {
    "duration": 553,
    "start_time": "2022-07-19T00:42:02.754Z"
   },
   {
    "duration": 12,
    "start_time": "2022-07-19T00:42:03.841Z"
   },
   {
    "duration": 13,
    "start_time": "2022-07-19T01:22:38.455Z"
   },
   {
    "duration": 5690,
    "start_time": "2022-07-19T01:22:43.811Z"
   },
   {
    "duration": 451,
    "start_time": "2022-07-19T01:22:49.503Z"
   },
   {
    "duration": 4,
    "start_time": "2022-07-19T01:22:49.955Z"
   },
   {
    "duration": 5695,
    "start_time": "2022-07-19T01:23:14.969Z"
   },
   {
    "duration": 4,
    "start_time": "2022-07-19T01:27:12.324Z"
   },
   {
    "duration": 449,
    "start_time": "2022-07-19T01:27:13.420Z"
   },
   {
    "duration": 4,
    "start_time": "2022-07-19T01:27:14.671Z"
   },
   {
    "duration": 45,
    "start_time": "2022-07-19T18:15:40.281Z"
   },
   {
    "duration": 6,
    "start_time": "2022-07-19T18:15:41.389Z"
   },
   {
    "duration": 2043,
    "start_time": "2022-07-19T18:15:51.980Z"
   },
   {
    "duration": 0,
    "start_time": "2022-07-19T18:15:54.025Z"
   },
   {
    "duration": 0,
    "start_time": "2022-07-19T18:15:54.026Z"
   },
   {
    "duration": 0,
    "start_time": "2022-07-19T18:15:54.027Z"
   },
   {
    "duration": 0,
    "start_time": "2022-07-19T18:15:54.028Z"
   },
   {
    "duration": 0,
    "start_time": "2022-07-19T18:15:54.031Z"
   },
   {
    "duration": 0,
    "start_time": "2022-07-19T18:15:54.032Z"
   },
   {
    "duration": 0,
    "start_time": "2022-07-19T18:15:54.034Z"
   },
   {
    "duration": 11,
    "start_time": "2022-07-19T18:15:54.482Z"
   },
   {
    "duration": 4111,
    "start_time": "2022-07-19T18:16:13.913Z"
   },
   {
    "duration": 1060,
    "start_time": "2022-07-19T18:16:24.147Z"
   },
   {
    "duration": 149,
    "start_time": "2022-07-19T18:16:27.697Z"
   },
   {
    "duration": 13,
    "start_time": "2022-07-19T18:16:28.577Z"
   },
   {
    "duration": 14,
    "start_time": "2022-07-19T18:16:28.791Z"
   },
   {
    "duration": 10,
    "start_time": "2022-07-19T18:16:28.992Z"
   },
   {
    "duration": 4,
    "start_time": "2022-07-19T18:16:29.239Z"
   },
   {
    "duration": 8,
    "start_time": "2022-07-19T18:16:30.074Z"
   },
   {
    "duration": 226,
    "start_time": "2022-07-19T18:16:30.302Z"
   },
   {
    "duration": 758,
    "start_time": "2022-07-19T18:16:30.530Z"
   },
   {
    "duration": 9,
    "start_time": "2022-07-19T18:16:34.707Z"
   },
   {
    "duration": 845,
    "start_time": "2022-07-19T18:16:35.978Z"
   },
   {
    "duration": 14,
    "start_time": "2022-07-19T18:16:38.785Z"
   },
   {
    "duration": 173,
    "start_time": "2022-07-19T18:16:39.377Z"
   },
   {
    "duration": 432,
    "start_time": "2022-07-19T18:16:46.887Z"
   },
   {
    "duration": 18,
    "start_time": "2022-07-19T18:16:51.794Z"
   },
   {
    "duration": 23,
    "start_time": "2022-07-19T18:16:53.843Z"
   },
   {
    "duration": 1223,
    "start_time": "2022-07-19T18:16:55.938Z"
   },
   {
    "duration": 11,
    "start_time": "2022-07-19T18:16:59.568Z"
   },
   {
    "duration": 6,
    "start_time": "2022-07-19T18:17:08.375Z"
   },
   {
    "duration": 3184,
    "start_time": "2022-07-19T18:17:09.183Z"
   },
   {
    "duration": 3,
    "start_time": "2022-07-19T18:17:12.369Z"
   },
   {
    "duration": 4,
    "start_time": "2022-07-19T18:17:47.181Z"
   }
  ],
  "kernelspec": {
   "display_name": "Python 3 (ipykernel)",
   "language": "python",
   "name": "python3"
  },
  "language_info": {
   "codemirror_mode": {
    "name": "ipython",
    "version": 3
   },
   "file_extension": ".py",
   "mimetype": "text/x-python",
   "name": "python",
   "nbconvert_exporter": "python",
   "pygments_lexer": "ipython3",
   "version": "3.8.8"
  },
  "toc": {
   "base_numbering": 1,
   "nav_menu": {},
   "number_sections": true,
   "sideBar": true,
   "skip_h1_title": true,
   "title_cell": "Table of Contents",
   "title_sidebar": "Contents",
   "toc_cell": false,
   "toc_position": {},
   "toc_section_display": true,
   "toc_window_display": false
  }
 },
 "nbformat": 4,
 "nbformat_minor": 2
}
